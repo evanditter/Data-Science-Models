{
 "cells": [
  {
   "cell_type": "markdown",
   "metadata": {},
   "source": [
    "<h1 align=\"center\"> Clustering Models</h1>\n",
    "<h3 align=\"center\"> Evan Ditter </h3>\n",
    "<h3 align=\"center\">April 8th, 2019</h3>\n",
    "\n",
    "## Overview\n",
    "\n",
    "In this lab, I will explore several different clustering algorithms on the World Happiness Report dataset. This dataset has a response variable of a Happiness Score that is between 0.0 (lowest) and 10.0 (highest). The other attributes being used are \n",
    "Economy (GDP per Capita), Family, Health (Life Expectancy), Freedom, Trust (Government Corruption), Generosity, and Dystopia Residual.These attributes will be used as predictors for the response Happiness Score.\n",
    "\n",
    "In the lab I will compare the following clustering models:  \n",
    "* K-means\n",
    "* Agglomerative Clustering\n",
    "* Affinity Propagation\n",
    "* Gaussian Mixture\n",
    "\n",
    "I will then visualize and evaluate each model on the given dataset and make conclusions on each model.\n",
    "\n",
    "(Note: Sometimes the colors changed when running the models for the different clusters, if this occured simply look at the cluster number and not the color.)   \n",
    "\n",
    "**References**:  \n",
    "https://www.kaggle.com/dhanyajothimani/basic-visualization-and-clustering-in-python/notebook  \n",
    "https://towardsdatascience.com/understanding-k-means-clustering-in-machine-learning-6a6e67336aa1  \n",
    "https://nlp.stanford.edu/IR-book/html/htmledition/hierarchical-agglomerative-clustering-1.html  \n",
    "https://medium.com/clustering-with-gaussian-mixture-model/clustering-with-gaussian-mixture-model-c695b6cd60da  \n",
    "\n",
    "## Data\n",
    "The data used is from the World Happiness Report landmark survey. This report finds the status of global happiness and takes attributes people might think correlate with happiness. Some of these include country, wealth, trust, freedom, family, and generosity.\n",
    "\n",
    "The different clustering models used:\n",
    "\n",
    "**k-means** - The objective of K-means is to group similar data points together and discover underlying patterns. To achieve this objective, K-means looks for a fixed number (k) of clusters in a dataset where a cluster refers to a collection of data points aggregated together because of certain similarities.\n",
    "\n",
    "**Agglomerative Clustering** - Agglomerative Clustering is a hierarchical clustering bottom-up algorithm. Bottom-up algorithms treat each document as a singleton cluster at the outset and then successively merge (or agglomerate) pairs of clusters until all clusters have been merged into a single cluster that contains all documents.\n",
    "\n",
    "**Affinity Propagation** - A clustering algorithm based on the concept of \"message passing\" between data points. Unlike clustering algorithms such as k-means, affinity propagation does not require the number of clusters to be determined or estimated before running the algorithm. Similar to k-medoids, affinity propagation finds \"exemplars\", members of the input set that are representative of clusters.\n",
    "\n",
    "**Gaussian Mixture** - Gaussian Mixture is like k-means but rather than identifying clusters by “nearest” centroids, I fit a set of k gaussians to the data and estimate gaussian distribution parameters such as mean and Variance for each cluster and weight of a cluster. After learning the parameters for each data point I can calculate the probabilities of it belonging to each of the clusters."
   ]
  },
  {
   "cell_type": "code",
   "execution_count": 2,
   "metadata": {
    "scrolled": true
   },
   "outputs": [
    {
     "data": {
      "text/html": [
       "<div>\n",
       "<style scoped>\n",
       "    .dataframe tbody tr th:only-of-type {\n",
       "        vertical-align: middle;\n",
       "    }\n",
       "\n",
       "    .dataframe tbody tr th {\n",
       "        vertical-align: top;\n",
       "    }\n",
       "\n",
       "    .dataframe thead th {\n",
       "        text-align: right;\n",
       "    }\n",
       "</style>\n",
       "<table border=\"1\" class=\"dataframe\">\n",
       "  <thead>\n",
       "    <tr style=\"text-align: right;\">\n",
       "      <th></th>\n",
       "      <th>Happiness Rank</th>\n",
       "      <th>Happiness Score</th>\n",
       "      <th>Lower Confidence Interval</th>\n",
       "      <th>Upper Confidence Interval</th>\n",
       "      <th>Economy (GDP per Capita)</th>\n",
       "      <th>Family</th>\n",
       "      <th>Health (Life Expectancy)</th>\n",
       "      <th>Freedom</th>\n",
       "      <th>Trust (Government Corruption)</th>\n",
       "      <th>Generosity</th>\n",
       "      <th>Dystopia Residual</th>\n",
       "    </tr>\n",
       "  </thead>\n",
       "  <tbody>\n",
       "    <tr>\n",
       "      <th>count</th>\n",
       "      <td>157.000000</td>\n",
       "      <td>157.000000</td>\n",
       "      <td>157.000000</td>\n",
       "      <td>157.000000</td>\n",
       "      <td>157.000000</td>\n",
       "      <td>157.000000</td>\n",
       "      <td>157.000000</td>\n",
       "      <td>157.000000</td>\n",
       "      <td>157.000000</td>\n",
       "      <td>157.000000</td>\n",
       "      <td>157.000000</td>\n",
       "    </tr>\n",
       "    <tr>\n",
       "      <th>mean</th>\n",
       "      <td>78.980892</td>\n",
       "      <td>5.382185</td>\n",
       "      <td>5.282395</td>\n",
       "      <td>5.481975</td>\n",
       "      <td>0.953880</td>\n",
       "      <td>0.793621</td>\n",
       "      <td>0.557619</td>\n",
       "      <td>0.370994</td>\n",
       "      <td>0.137624</td>\n",
       "      <td>0.242635</td>\n",
       "      <td>2.325807</td>\n",
       "    </tr>\n",
       "    <tr>\n",
       "      <th>std</th>\n",
       "      <td>45.466030</td>\n",
       "      <td>1.141674</td>\n",
       "      <td>1.148043</td>\n",
       "      <td>1.136493</td>\n",
       "      <td>0.412595</td>\n",
       "      <td>0.266706</td>\n",
       "      <td>0.229349</td>\n",
       "      <td>0.145507</td>\n",
       "      <td>0.111038</td>\n",
       "      <td>0.133756</td>\n",
       "      <td>0.542220</td>\n",
       "    </tr>\n",
       "    <tr>\n",
       "      <th>min</th>\n",
       "      <td>1.000000</td>\n",
       "      <td>2.905000</td>\n",
       "      <td>2.732000</td>\n",
       "      <td>3.078000</td>\n",
       "      <td>0.000000</td>\n",
       "      <td>0.000000</td>\n",
       "      <td>0.000000</td>\n",
       "      <td>0.000000</td>\n",
       "      <td>0.000000</td>\n",
       "      <td>0.000000</td>\n",
       "      <td>0.817890</td>\n",
       "    </tr>\n",
       "    <tr>\n",
       "      <th>25%</th>\n",
       "      <td>40.000000</td>\n",
       "      <td>4.404000</td>\n",
       "      <td>4.327000</td>\n",
       "      <td>4.465000</td>\n",
       "      <td>0.670240</td>\n",
       "      <td>0.641840</td>\n",
       "      <td>0.382910</td>\n",
       "      <td>0.257480</td>\n",
       "      <td>0.061260</td>\n",
       "      <td>0.154570</td>\n",
       "      <td>2.031710</td>\n",
       "    </tr>\n",
       "    <tr>\n",
       "      <th>50%</th>\n",
       "      <td>79.000000</td>\n",
       "      <td>5.314000</td>\n",
       "      <td>5.237000</td>\n",
       "      <td>5.419000</td>\n",
       "      <td>1.027800</td>\n",
       "      <td>0.841420</td>\n",
       "      <td>0.596590</td>\n",
       "      <td>0.397470</td>\n",
       "      <td>0.105470</td>\n",
       "      <td>0.222450</td>\n",
       "      <td>2.290740</td>\n",
       "    </tr>\n",
       "    <tr>\n",
       "      <th>75%</th>\n",
       "      <td>118.000000</td>\n",
       "      <td>6.269000</td>\n",
       "      <td>6.154000</td>\n",
       "      <td>6.434000</td>\n",
       "      <td>1.279640</td>\n",
       "      <td>1.021520</td>\n",
       "      <td>0.729930</td>\n",
       "      <td>0.484530</td>\n",
       "      <td>0.175540</td>\n",
       "      <td>0.311850</td>\n",
       "      <td>2.664650</td>\n",
       "    </tr>\n",
       "    <tr>\n",
       "      <th>max</th>\n",
       "      <td>157.000000</td>\n",
       "      <td>7.526000</td>\n",
       "      <td>7.460000</td>\n",
       "      <td>7.669000</td>\n",
       "      <td>1.824270</td>\n",
       "      <td>1.183260</td>\n",
       "      <td>0.952770</td>\n",
       "      <td>0.608480</td>\n",
       "      <td>0.505210</td>\n",
       "      <td>0.819710</td>\n",
       "      <td>3.837720</td>\n",
       "    </tr>\n",
       "  </tbody>\n",
       "</table>\n",
       "</div>"
      ],
      "text/plain": [
       "       Happiness Rank  Happiness Score  Lower Confidence Interval  \\\n",
       "count      157.000000       157.000000                 157.000000   \n",
       "mean        78.980892         5.382185                   5.282395   \n",
       "std         45.466030         1.141674                   1.148043   \n",
       "min          1.000000         2.905000                   2.732000   \n",
       "25%         40.000000         4.404000                   4.327000   \n",
       "50%         79.000000         5.314000                   5.237000   \n",
       "75%        118.000000         6.269000                   6.154000   \n",
       "max        157.000000         7.526000                   7.460000   \n",
       "\n",
       "       Upper Confidence Interval  Economy (GDP per Capita)      Family  \\\n",
       "count                 157.000000                157.000000  157.000000   \n",
       "mean                    5.481975                  0.953880    0.793621   \n",
       "std                     1.136493                  0.412595    0.266706   \n",
       "min                     3.078000                  0.000000    0.000000   \n",
       "25%                     4.465000                  0.670240    0.641840   \n",
       "50%                     5.419000                  1.027800    0.841420   \n",
       "75%                     6.434000                  1.279640    1.021520   \n",
       "max                     7.669000                  1.824270    1.183260   \n",
       "\n",
       "       Health (Life Expectancy)     Freedom  Trust (Government Corruption)  \\\n",
       "count                157.000000  157.000000                     157.000000   \n",
       "mean                   0.557619    0.370994                       0.137624   \n",
       "std                    0.229349    0.145507                       0.111038   \n",
       "min                    0.000000    0.000000                       0.000000   \n",
       "25%                    0.382910    0.257480                       0.061260   \n",
       "50%                    0.596590    0.397470                       0.105470   \n",
       "75%                    0.729930    0.484530                       0.175540   \n",
       "max                    0.952770    0.608480                       0.505210   \n",
       "\n",
       "       Generosity  Dystopia Residual  \n",
       "count  157.000000         157.000000  \n",
       "mean     0.242635           2.325807  \n",
       "std      0.133756           0.542220  \n",
       "min      0.000000           0.817890  \n",
       "25%      0.154570           2.031710  \n",
       "50%      0.222450           2.290740  \n",
       "75%      0.311850           2.664650  \n",
       "max      0.819710           3.837720  "
      ]
     },
     "execution_count": 2,
     "metadata": {},
     "output_type": "execute_result"
    }
   ],
   "source": [
    "#Call required libraries\n",
    "import time                   # To time processes\n",
    "import warnings               # To suppress warnings\n",
    "\n",
    "import numpy as np            # Data manipulation\n",
    "import pandas as pd           # Dataframe manipulatio \n",
    "import matplotlib.pyplot as plt                   # For graphics\n",
    "import seaborn as sns\n",
    "# import plotly.plotly as py #For World Map\n",
    "# import plotly.graph_objs as go\n",
    "# from plotly.offline import download_plotlyjs, init_notebook_mode, plot, iplot\n",
    "# init_notebook_mode(connected=True)\n",
    "\n",
    "from sklearn.preprocessing import StandardScaler  # For scaling dataset\n",
    "from sklearn.cluster import KMeans, AgglomerativeClustering, AffinityPropagation #For clustering\n",
    "from sklearn.mixture import GaussianMixture #For GMM clustering\n",
    "\n",
    "import os                     # For os related operations\n",
    "import sys      \n",
    "\n",
    "wh = pd.read_csv(\"2016.csv\") #Read the dataset\n",
    "wh.describe()"
   ]
  },
  {
   "cell_type": "markdown",
   "metadata": {},
   "source": [
    "Above shows the description of the dataset on happiness. Happiness score is the one I care the most about with the max happiness score being 10.0 and the minimum is 0. The other attributes will be used to try to see which correlates the highest with the happiness score.\n",
    "\n",
    "Below I will output the datatypes of the different attributes."
   ]
  },
  {
   "cell_type": "code",
   "execution_count": 4,
   "metadata": {},
   "outputs": [
    {
     "name": "stdout",
     "output_type": "stream",
     "text": [
      "Dimension of dataset: wh.shape\n"
     ]
    },
    {
     "data": {
      "text/plain": [
       "Country                           object\n",
       "Region                            object\n",
       "Happiness Rank                     int64\n",
       "Happiness Score                  float64\n",
       "Lower Confidence Interval        float64\n",
       "Upper Confidence Interval        float64\n",
       "Economy (GDP per Capita)         float64\n",
       "Family                           float64\n",
       "Health (Life Expectancy)         float64\n",
       "Freedom                          float64\n",
       "Trust (Government Corruption)    float64\n",
       "Generosity                       float64\n",
       "Dystopia Residual                float64\n",
       "dtype: object"
      ]
     },
     "execution_count": 4,
     "metadata": {},
     "output_type": "execute_result"
    }
   ],
   "source": [
    "# Shows the datatypes of the different attributes in the dataset\n",
    "print(\"Dimension of dataset: wh.shape\")\n",
    "wh.dtypes"
   ]
  },
  {
   "cell_type": "markdown",
   "metadata": {},
   "source": [
    "## Exploratory Data Analysis\n",
    "\n",
    "As a baseline, I will output how the different attributes correlate with Happiness Score. The lighter colors show a correlation of 1.0 and the darkest colors show a correlation of 0. As can be seen from the plot below, Economy (GDP per Capita), Family, and Health (Life Expectancy) have the highest correlation with the Happiness Score. Generosity and Trust (Government Corruption) are the two least correlated attributes in the dataset. \n",
    "\n",
    "Most of the analysis will occur in the models section after each of the models.\n",
    "\n",
    "Below I am creating four identical dataframs to use for each of the models. The heat map shows the correlation between the different attributes."
   ]
  },
  {
   "cell_type": "code",
   "execution_count": 45,
   "metadata": {},
   "outputs": [
    {
     "data": {
      "text/plain": [
       "<matplotlib.axes._subplots.AxesSubplot at 0x29b88dcf198>"
      ]
     },
     "execution_count": 45,
     "metadata": {},
     "output_type": "execute_result"
    },
    {
     "data": {
      "image/png": "[encoded data removed]",
      "text/plain": [
       "<Figure size 432x288 with 2 Axes>"
      ]
     },
     "metadata": {},
     "output_type": "display_data"
    }
   ],
   "source": [
    "wh1 = wh[['Happiness Score','Economy (GDP per Capita)','Family','Health (Life Expectancy)', 'Freedom', \n",
    "          'Generosity','Trust (Government Corruption)','Dystopia Residual']] #Subsetting the data\n",
    "cor = wh1.corr() #Calculate the correlation of the above variables\n",
    "sns.heatmap(cor, square = True) #Plot the correlation as heat map"
   ]
  },
  {
   "cell_type": "code",
   "execution_count": 34,
   "metadata": {},
   "outputs": [],
   "source": [
    "wh2 = wh[['Happiness Score','Economy (GDP per Capita)','Family','Health (Life Expectancy)', 'Freedom', \n",
    "          'Generosity','Trust (Government Corruption)','Dystopia Residual']] #Subsetting the data\n",
    "cor = wh2.corr() #Calculate the correlation of the above variables"
   ]
  },
  {
   "cell_type": "code",
   "execution_count": 35,
   "metadata": {},
   "outputs": [],
   "source": [
    "wh3 = wh[['Happiness Score','Economy (GDP per Capita)','Family','Health (Life Expectancy)', 'Freedom', \n",
    "          'Generosity','Trust (Government Corruption)','Dystopia Residual']] #Subsetting the data\n",
    "cor = wh3.corr() #Calculate the correlation of the above variables"
   ]
  },
  {
   "cell_type": "code",
   "execution_count": 40,
   "metadata": {},
   "outputs": [],
   "source": [
    "wh4 = wh[['Happiness Score','Economy (GDP per Capita)','Family','Health (Life Expectancy)', 'Freedom', \n",
    "          'Generosity','Trust (Government Corruption)','Dystopia Residual']] #Subsetting the data\n",
    "cor = wh4.corr() #Calculate the correlation of the above variables"
   ]
  },
  {
   "cell_type": "code",
   "execution_count": 6,
   "metadata": {
    "scrolled": true
   },
   "outputs": [
    {
     "data": {
      "text/plain": [
       "array([[ 1.88379206,  1.1862989 ,  1.39218336, ...,  0.89309199,\n",
       "         2.77282187,  0.76520031],\n",
       "       [ 1.86885399,  1.39430839,  1.32259655, ...,  0.28647245,\n",
       "         2.47919242,  0.68238663],\n",
       "       [ 1.86182431,  1.14953556,  1.46560684, ...,  1.7561448 ,\n",
       "         0.10955759,  0.93537909],\n",
       "       ...,\n",
       "       [-1.82700053, -1.63550608, -2.98516507, ..., -0.50600309,\n",
       "        -0.19653981, -0.3522848 ],\n",
       "       [-2.03261868, -0.50255339, -2.42598809, ...,  1.81007154,\n",
       "         0.3135623 , -2.7899043 ],\n",
       "       [-2.17672713, -2.15320779, -2.10340624, ..., -0.29802139,\n",
       "        -0.39241324, -0.41030618]])"
      ]
     },
     "execution_count": 6,
     "metadata": {},
     "output_type": "execute_result"
    }
   ],
   "source": [
    "#Scaling of data\n",
    "ss = StandardScaler()\n",
    "ss.fit_transform(wh1)"
   ]
  },
  {
   "cell_type": "code",
   "execution_count": 41,
   "metadata": {},
   "outputs": [
    {
     "data": {
      "text/plain": [
       "array([[ 1.88379206,  1.1862989 ,  1.39218336, ...,  0.89309199,\n",
       "         2.77282187,  0.76520031],\n",
       "       [ 1.86885399,  1.39430839,  1.32259655, ...,  0.28647245,\n",
       "         2.47919242,  0.68238663],\n",
       "       [ 1.86182431,  1.14953556,  1.46560684, ...,  1.7561448 ,\n",
       "         0.10955759,  0.93537909],\n",
       "       ...,\n",
       "       [-1.82700053, -1.63550608, -2.98516507, ..., -0.50600309,\n",
       "        -0.19653981, -0.3522848 ],\n",
       "       [-2.03261868, -0.50255339, -2.42598809, ...,  1.81007154,\n",
       "         0.3135623 , -2.7899043 ],\n",
       "       [-2.17672713, -2.15320779, -2.10340624, ..., -0.29802139,\n",
       "        -0.39241324, -0.41030618]])"
      ]
     },
     "execution_count": 41,
     "metadata": {},
     "output_type": "execute_result"
    }
   ],
   "source": [
    "ss.fit_transform(wh2)"
   ]
  },
  {
   "cell_type": "code",
   "execution_count": 42,
   "metadata": {
    "scrolled": true
   },
   "outputs": [
    {
     "data": {
      "text/plain": [
       "array([[ 1.88379206,  1.1862989 ,  1.39218336, ...,  0.89309199,\n",
       "         2.77282187,  0.76520031],\n",
       "       [ 1.86885399,  1.39430839,  1.32259655, ...,  0.28647245,\n",
       "         2.47919242,  0.68238663],\n",
       "       [ 1.86182431,  1.14953556,  1.46560684, ...,  1.7561448 ,\n",
       "         0.10955759,  0.93537909],\n",
       "       ...,\n",
       "       [-1.82700053, -1.63550608, -2.98516507, ..., -0.50600309,\n",
       "        -0.19653981, -0.3522848 ],\n",
       "       [-2.03261868, -0.50255339, -2.42598809, ...,  1.81007154,\n",
       "         0.3135623 , -2.7899043 ],\n",
       "       [-2.17672713, -2.15320779, -2.10340624, ..., -0.29802139,\n",
       "        -0.39241324, -0.41030618]])"
      ]
     },
     "execution_count": 42,
     "metadata": {},
     "output_type": "execute_result"
    }
   ],
   "source": [
    "ss.fit_transform(wh3)"
   ]
  },
  {
   "cell_type": "code",
   "execution_count": 43,
   "metadata": {
    "scrolled": true
   },
   "outputs": [
    {
     "data": {
      "text/plain": [
       "array([[ 1.88379206,  1.1862989 ,  1.39218336, ...,  0.89309199,\n",
       "         2.77282187,  0.76520031],\n",
       "       [ 1.86885399,  1.39430839,  1.32259655, ...,  0.28647245,\n",
       "         2.47919242,  0.68238663],\n",
       "       [ 1.86182431,  1.14953556,  1.46560684, ...,  1.7561448 ,\n",
       "         0.10955759,  0.93537909],\n",
       "       ...,\n",
       "       [-1.82700053, -1.63550608, -2.98516507, ..., -0.50600309,\n",
       "        -0.19653981, -0.3522848 ],\n",
       "       [-2.03261868, -0.50255339, -2.42598809, ...,  1.81007154,\n",
       "         0.3135623 , -2.7899043 ],\n",
       "       [-2.17672713, -2.15320779, -2.10340624, ..., -0.29802139,\n",
       "        -0.39241324, -0.41030618]])"
      ]
     },
     "execution_count": 43,
     "metadata": {},
     "output_type": "execute_result"
    }
   ],
   "source": [
    "ss.fit_transform(wh4)"
   ]
  },
  {
   "cell_type": "markdown",
   "metadata": {},
   "source": [
    "The above code standardized the data."
   ]
  },
  {
   "cell_type": "markdown",
   "metadata": {},
   "source": [
    "## Models\n",
    "\n",
    "The models section will include the four clustering algorithms mentioned in the Overview and Data sections. After each model, I will visualize the output and evaluate how well the model performs.\n",
    "\n",
    "### k-means clustering\n",
    "\n",
    "The first model I will explore is the basic k-means clustering algorithm. I will define the number of clusters to be 3 and will use this for the following models as well (except Affinity Propagation where you don't specify number of clusters). The clusters are formed based on the closeness to the center value of the clusters. The initial center value will be chosen at random. K-means clustering is a top-down approach which means I first decide the number of clusters (k) and then will group data points into the k clusters."
   ]
  },
  {
   "cell_type": "code",
   "execution_count": 50,
   "metadata": {},
   "outputs": [],
   "source": [
    "#K means Clustering \n",
    "def doKmeans(X, nclust=3):\n",
    "    model = KMeans(nclust)\n",
    "    model.fit(X)\n",
    "    clust_labels = model.predict(X)\n",
    "    cent = model.cluster_centers_\n",
    "    return (clust_labels, cent)\n",
    "\n",
    "clust_labels, cent = doKmeans(wh1, 3)\n",
    "kmeans = pd.DataFrame(clust_labels)\n",
    "wh1.insert((wh1.shape[1]),'kmeans',kmeans)"
   ]
  },
  {
   "cell_type": "code",
   "execution_count": 51,
   "metadata": {
    "scrolled": false
   },
   "outputs": [
    {
     "data": {
      "text/plain": [
       "<matplotlib.colorbar.Colorbar at 0x29b88ebb780>"
      ]
     },
     "execution_count": 51,
     "metadata": {},
     "output_type": "execute_result"
    },
    {
     "data": {
      "image/png": "[encoded data removed]",
      "text/plain": [
       "<Figure size 432x288 with 2 Axes>"
      ]
     },
     "metadata": {},
     "output_type": "display_data"
    }
   ],
   "source": [
    "#Plot the clusters obtained using k means\n",
    "fig = plt.figure()\n",
    "ax = fig.add_subplot(111)\n",
    "scatter = ax.scatter(wh1['Economy (GDP per Capita)'],wh1['Family'],\n",
    "                     c=kmeans[0],s=50)\n",
    "ax.set_title('K-Means Clustering')\n",
    "ax.set_xlabel('GDP per Capita')\n",
    "ax.set_ylabel('Family')\n",
    "ax.legend(kmeans)\n",
    "plt.colorbar(scatter)"
   ]
  },
  {
   "cell_type": "markdown",
   "metadata": {},
   "source": [
    "Purple - 0  \n",
    "Blue - 1  \n",
    "Yellow - 2  "
   ]
  },
  {
   "cell_type": "markdown",
   "metadata": {},
   "source": [
    "The above plot shows the three different resulting clusters from the k-means clustering algorithm. You could uncomment and run the code below to see how each instance was classified as a 0, 1, or 2 cluster. I chose Family and GDP per Capita to use on the axis as they were seen to be the top two predictors from the initial analysis in the Exploratory Data Analysis section. I was expecting a positive correlation between the two attributes as they both were seen to be good indicators of the happiness score. As can be seen, as the Family score increases so does the GDP per Capita score and thus overall Happiness Score. It can also be seen from the clusters that Family and GDP per Capita are also closely correlated as one goes up the other happens to go up. "
   ]
  },
  {
   "cell_type": "code",
   "execution_count": 79,
   "metadata": {},
   "outputs": [],
   "source": [
    "# wh1['kmeans3']"
   ]
  },
  {
   "cell_type": "code",
   "execution_count": 52,
   "metadata": {},
   "outputs": [
    {
     "data": {
      "text/html": [
       "<div>\n",
       "<style scoped>\n",
       "    .dataframe tbody tr th:only-of-type {\n",
       "        vertical-align: middle;\n",
       "    }\n",
       "\n",
       "    .dataframe tbody tr th {\n",
       "        vertical-align: top;\n",
       "    }\n",
       "\n",
       "    .dataframe thead th {\n",
       "        text-align: right;\n",
       "    }\n",
       "</style>\n",
       "<table border=\"1\" class=\"dataframe\">\n",
       "  <thead>\n",
       "    <tr style=\"text-align: right;\">\n",
       "      <th></th>\n",
       "      <th>Economy (GDP per Capita)</th>\n",
       "    </tr>\n",
       "    <tr>\n",
       "      <th>kmeans</th>\n",
       "      <th></th>\n",
       "    </tr>\n",
       "  </thead>\n",
       "  <tbody>\n",
       "    <tr>\n",
       "      <th>0</th>\n",
       "      <td>0.553709</td>\n",
       "    </tr>\n",
       "    <tr>\n",
       "      <th>1</th>\n",
       "      <td>1.341650</td>\n",
       "    </tr>\n",
       "    <tr>\n",
       "      <th>2</th>\n",
       "      <td>0.982444</td>\n",
       "    </tr>\n",
       "  </tbody>\n",
       "</table>\n",
       "</div>"
      ],
      "text/plain": [
       "        Economy (GDP per Capita)\n",
       "kmeans                          \n",
       "0                       0.553709\n",
       "1                       1.341650\n",
       "2                       0.982444"
      ]
     },
     "execution_count": 52,
     "metadata": {},
     "output_type": "execute_result"
    }
   ],
   "source": [
    "# split df into cluster groups\n",
    "df_heat_k = wh1.filter(['Economy (GDP per Capita)', 'kmeans'], axis=1)\n",
    "k_grouped = df_heat_k.groupby(['kmeans'], sort=True)\n",
    "# compute average for each cluster\n",
    "k_means = k_grouped.mean()\n",
    "k_means"
   ]
  },
  {
   "cell_type": "code",
   "execution_count": 53,
   "metadata": {
    "scrolled": true
   },
   "outputs": [
    {
     "data": {
      "text/html": [
       "<div>\n",
       "<style scoped>\n",
       "    .dataframe tbody tr th:only-of-type {\n",
       "        vertical-align: middle;\n",
       "    }\n",
       "\n",
       "    .dataframe tbody tr th {\n",
       "        vertical-align: top;\n",
       "    }\n",
       "\n",
       "    .dataframe thead th {\n",
       "        text-align: right;\n",
       "    }\n",
       "</style>\n",
       "<table border=\"1\" class=\"dataframe\">\n",
       "  <thead>\n",
       "    <tr style=\"text-align: right;\">\n",
       "      <th></th>\n",
       "      <th>Family</th>\n",
       "    </tr>\n",
       "    <tr>\n",
       "      <th>kmeans</th>\n",
       "      <th></th>\n",
       "    </tr>\n",
       "  </thead>\n",
       "  <tbody>\n",
       "    <tr>\n",
       "      <th>0</th>\n",
       "      <td>0.559753</td>\n",
       "    </tr>\n",
       "    <tr>\n",
       "      <th>1</th>\n",
       "      <td>1.012502</td>\n",
       "    </tr>\n",
       "    <tr>\n",
       "      <th>2</th>\n",
       "      <td>0.816056</td>\n",
       "    </tr>\n",
       "  </tbody>\n",
       "</table>\n",
       "</div>"
      ],
      "text/plain": [
       "          Family\n",
       "kmeans          \n",
       "0       0.559753\n",
       "1       1.012502\n",
       "2       0.816056"
      ]
     },
     "execution_count": 53,
     "metadata": {},
     "output_type": "execute_result"
    }
   ],
   "source": [
    "# split df into cluster groups\n",
    "df_heat_k_f = wh1.filter(['Family', 'kmeans'], axis=1)\n",
    "k_grouped_f = df_heat_k_f.groupby(['kmeans'], sort=True)\n",
    "# compute average for each cluster\n",
    "k_means_f = k_grouped_f.mean()\n",
    "k_means_f"
   ]
  },
  {
   "cell_type": "markdown",
   "metadata": {},
   "source": [
    "The output above shows how the average GDP per Capita changes with the different groups in the k-means clustering algorithm as well as the Family values.\n",
    "\n",
    "From the tables, I can see that group 1 had the highest correlation between the two which was the blue group that also appeared to be the best in the graphical output. Cluster 0 (purple) had the lowest average GDP per Capita and Family which makes sense from the graphical representation. Cluster 2 (yellow) for k-means has values between the other two clusters which makes sense from the graphical representation."
   ]
  },
  {
   "cell_type": "code",
   "execution_count": 54,
   "metadata": {},
   "outputs": [
    {
     "data": {
      "text/plain": [
       "Text(0.5, 1.0, '')"
      ]
     },
     "execution_count": 54,
     "metadata": {},
     "output_type": "execute_result"
    },
    {
     "data": {
      "image/png": "[encoded data removed]",
      "text/plain": [
       "<Figure size 432x288 with 1 Axes>"
      ]
     },
     "metadata": {},
     "output_type": "display_data"
    }
   ],
   "source": [
    "df_boxplot = wh1.filter(['Economy (GDP per Capita)', 'kmeans'], axis=1)\n",
    "\n",
    "plt.style.use('ggplot')\n",
    "df_plt = df_boxplot.sort_values(by=['kmeans'])\n",
    "fig = df_plt.boxplot(by=['kmeans'])\n",
    "fig.set_title('')"
   ]
  },
  {
   "cell_type": "markdown",
   "metadata": {},
   "source": [
    "The boxplot shows the different quartiles for each cluster. The blue group which is kmeans group 1 has the smallest difference between its extremes and quartiles which is another measure proving it to be the most accurate and condense cluster whereas the other two groups had the larger differences meaning it seems to be the data is more sparse."
   ]
  },
  {
   "cell_type": "code",
   "execution_count": 55,
   "metadata": {},
   "outputs": [
    {
     "data": {
      "image/png": "[encoded data removed]",
      "text/plain": [
       "<Figure size 432x288 with 1 Axes>"
      ]
     },
     "metadata": {},
     "output_type": "display_data"
    }
   ],
   "source": [
    "sse = {}\n",
    "for k in range(1, 10):\n",
    "    kmeansk = KMeans(n_clusters=k, max_iter=1000).fit(wh1)\n",
    "   # wh1['TestScore'] = kmeansk.labels_\n",
    "    #print(data[\"clusters\"])\n",
    "    sse[k] = kmeansk.inertia_ # Inertia: Sum of distances of samples to their closest cluster center\n",
    "    \n",
    "plt.figure()\n",
    "plt.plot(list(sse.keys()), list(sse.values()))\n",
    "plt.xlabel(\"Number of cluster\")\n",
    "plt.ylabel(\"SSE\")\n",
    "plt.show()"
   ]
  },
  {
   "cell_type": "markdown",
   "metadata": {},
   "source": [
    "The plot above depicts that the optimal number of clusters for this k-means algorithm is three which reinforces the notation that I should use three clusters. The \"elbow\" on the arm is the value of optimal k (number of cluster) which in this case is 3."
   ]
  },
  {
   "cell_type": "code",
   "execution_count": 56,
   "metadata": {},
   "outputs": [
    {
     "name": "stdout",
     "output_type": "stream",
     "text": [
      "The average Happiness Score for cluster 0: \n",
      "4.065708333333332\n",
      "The average Happiness Score for cluster 1: \n",
      "6.774499999999999\n",
      "The average Happiness Score for cluster 2: \n",
      "5.455193548387095\n"
     ]
    }
   ],
   "source": [
    "kmean1 = []\n",
    "kmean2 = []\n",
    "kmean3 = []\n",
    "y = 0\n",
    "labels_true = wh['Happiness Score']\n",
    "while y < kmeans.size - 1:\n",
    "    if kmeans[0][y] == 0:\n",
    "        kmean1.append(y)\n",
    "    elif kmeans[0][y] == 1:\n",
    "        kmean2.append(y)\n",
    "    else:\n",
    "        kmean3.append(y)\n",
    "    y = y + 1\n",
    "\n",
    "\n",
    "count = 0\n",
    "k_mean_1 = 0\n",
    "k_mean_2 = 0\n",
    "k_mean_3 = 0\n",
    "while count < len(labels_true):\n",
    "    if count in kmean1:\n",
    "        k_mean_1 += labels_true[count]\n",
    "    elif count in kmean2:\n",
    "        k_mean_2 += labels_true[count]\n",
    "    else:\n",
    "        k_mean_3 += labels_true[count]\n",
    "    count = count + 1\n",
    "\n",
    "avg_km1 = k_mean_1 / len(kmean1)\n",
    "avg_km2 = k_mean_2 / len(kmean2)\n",
    "avg_km3 = k_mean_3 / len(kmean3)\n",
    "print(\"The average Happiness Score for cluster 0: \")\n",
    "print(avg_km1)\n",
    "print(\"The average Happiness Score for cluster 1: \")\n",
    "print(avg_km2)\n",
    "print(\"The average Happiness Score for cluster 2: \")\n",
    "print(avg_km3)\n"
   ]
  },
  {
   "cell_type": "markdown",
   "metadata": {},
   "source": [
    "As can be seen from finding the average Happiness Score for each cluster, cluster 1 performed the best, followed by the 2nd and then the 0th. This coincides with what was predicted with the Family and GDP per Capita attributes."
   ]
  },
  {
   "cell_type": "markdown",
   "metadata": {},
   "source": [
    "### Agglomerative Clustering\n",
    "\n",
    "Agglomerative clustering does not requrie a specific number of clusters, but for this experient I are going to enter in 3 to try to keep the results consistent. Initially, each point is considered as a separate cluster, then it recursively clusters the points together depending upon the distance between them. The points are clustered in such a way that the distance between points within a cluster is minimum and distance between the cluster is maximum. Commonly used distance measures are Euclidean distance, Manhattan distance or Mahalanobis distance. Unlike k-means clustering, it is \"bottom-up\" approach."
   ]
  },
  {
   "cell_type": "code",
   "execution_count": 61,
   "metadata": {},
   "outputs": [],
   "source": [
    "def doAgglomerative(X, nclust=3):\n",
    "    model = AgglomerativeClustering(n_clusters=nclust, affinity = 'euclidean', linkage = 'ward')\n",
    "    clust_labels1 = model.fit_predict(X)\n",
    "    return (clust_labels1)\n",
    "\n",
    "clust_labels1 = doAgglomerative(wh2, 3)\n",
    "agglomerative = pd.DataFrame(clust_labels1)\n",
    "wh2.insert((wh2.shape[1]),'agglomerative',agglomerative)"
   ]
  },
  {
   "cell_type": "code",
   "execution_count": 62,
   "metadata": {},
   "outputs": [
    {
     "data": {
      "text/plain": [
       "<matplotlib.colorbar.Colorbar at 0x29b8a039550>"
      ]
     },
     "execution_count": 62,
     "metadata": {},
     "output_type": "execute_result"
    },
    {
     "data": {
      "image/png": "[encoded data removed]",
      "text/plain": [
       "<Figure size 432x288 with 2 Axes>"
      ]
     },
     "metadata": {},
     "output_type": "display_data"
    }
   ],
   "source": [
    "#Plot the clusters obtained using Agglomerative clustering or Hierarchical clustering\n",
    "fig = plt.figure()\n",
    "ax = fig.add_subplot(111)\n",
    "scatter = ax.scatter(wh2['Economy (GDP per Capita)'],wh2['Family'],\n",
    "                     c=agglomerative[0],s=50)\n",
    "ax.set_title('Agglomerative Clustering')\n",
    "ax.set_xlabel('GDP per Capita')\n",
    "ax.set_ylabel('Family')\n",
    "plt.colorbar(scatter)"
   ]
  },
  {
   "cell_type": "markdown",
   "metadata": {},
   "source": [
    "Purple - 0  \n",
    "Blue - 1  \n",
    "Yellow - 2  "
   ]
  },
  {
   "cell_type": "code",
   "execution_count": 63,
   "metadata": {},
   "outputs": [
    {
     "data": {
      "text/html": [
       "<div>\n",
       "<style scoped>\n",
       "    .dataframe tbody tr th:only-of-type {\n",
       "        vertical-align: middle;\n",
       "    }\n",
       "\n",
       "    .dataframe tbody tr th {\n",
       "        vertical-align: top;\n",
       "    }\n",
       "\n",
       "    .dataframe thead th {\n",
       "        text-align: right;\n",
       "    }\n",
       "</style>\n",
       "<table border=\"1\" class=\"dataframe\">\n",
       "  <thead>\n",
       "    <tr style=\"text-align: right;\">\n",
       "      <th></th>\n",
       "      <th>Economy (GDP per Capita)</th>\n",
       "    </tr>\n",
       "    <tr>\n",
       "      <th>agglomerative</th>\n",
       "      <th></th>\n",
       "    </tr>\n",
       "  </thead>\n",
       "  <tbody>\n",
       "    <tr>\n",
       "      <th>0</th>\n",
       "      <td>1.256579</td>\n",
       "    </tr>\n",
       "    <tr>\n",
       "      <th>1</th>\n",
       "      <td>0.576628</td>\n",
       "    </tr>\n",
       "    <tr>\n",
       "      <th>2</th>\n",
       "      <td>0.850429</td>\n",
       "    </tr>\n",
       "  </tbody>\n",
       "</table>\n",
       "</div>"
      ],
      "text/plain": [
       "               Economy (GDP per Capita)\n",
       "agglomerative                          \n",
       "0                              1.256579\n",
       "1                              0.576628\n",
       "2                              0.850429"
      ]
     },
     "execution_count": 63,
     "metadata": {},
     "output_type": "execute_result"
    }
   ],
   "source": [
    "# split df into cluster groups\n",
    "df_heat_agg = wh2.filter(['Economy (GDP per Capita)', 'agglomerative'], axis=1)\n",
    "agg_grouped = df_heat_agg.groupby(['agglomerative'], sort=True)\n",
    "# compute average for each cluster\n",
    "agg_means = agg_grouped.mean()\n",
    "agg_means"
   ]
  },
  {
   "cell_type": "code",
   "execution_count": 64,
   "metadata": {},
   "outputs": [
    {
     "data": {
      "text/html": [
       "<div>\n",
       "<style scoped>\n",
       "    .dataframe tbody tr th:only-of-type {\n",
       "        vertical-align: middle;\n",
       "    }\n",
       "\n",
       "    .dataframe tbody tr th {\n",
       "        vertical-align: top;\n",
       "    }\n",
       "\n",
       "    .dataframe thead th {\n",
       "        text-align: right;\n",
       "    }\n",
       "</style>\n",
       "<table border=\"1\" class=\"dataframe\">\n",
       "  <thead>\n",
       "    <tr style=\"text-align: right;\">\n",
       "      <th></th>\n",
       "      <th>Family</th>\n",
       "    </tr>\n",
       "    <tr>\n",
       "      <th>agglomerative</th>\n",
       "      <th></th>\n",
       "    </tr>\n",
       "  </thead>\n",
       "  <tbody>\n",
       "    <tr>\n",
       "      <th>0</th>\n",
       "      <td>0.985823</td>\n",
       "    </tr>\n",
       "    <tr>\n",
       "      <th>1</th>\n",
       "      <td>0.563832</td>\n",
       "    </tr>\n",
       "    <tr>\n",
       "      <th>2</th>\n",
       "      <td>0.716721</td>\n",
       "    </tr>\n",
       "  </tbody>\n",
       "</table>\n",
       "</div>"
      ],
      "text/plain": [
       "                 Family\n",
       "agglomerative          \n",
       "0              0.985823\n",
       "1              0.563832\n",
       "2              0.716721"
      ]
     },
     "execution_count": 64,
     "metadata": {},
     "output_type": "execute_result"
    }
   ],
   "source": [
    "# split df into cluster groups\n",
    "df_heat_agg_f = wh2.filter(['Family', 'agglomerative'], axis=1)\n",
    "agg_grouped_f = df_heat_agg_f.groupby(['agglomerative'], sort=True)\n",
    "# compute average for each cluster\n",
    "agg_means_f = agg_grouped_f.mean()\n",
    "agg_means_f"
   ]
  },
  {
   "cell_type": "markdown",
   "metadata": {},
   "source": [
    "The output above shows how the average GDP per Capita changes with the different groups in the agglomerative clustering algorithm as well as the Family values.\n",
    "\n",
    "From the tables, I can see that group 0 had the highest correlation between the two which was the purple group that also appeared to be the best in the graphical output. Group 1 (blue) has the lowest correlation for both GDP per Capita and Family which makes sense from the graphical representation. The last group 2 (yellow) was between the other two clusters."
   ]
  },
  {
   "cell_type": "code",
   "execution_count": 65,
   "metadata": {},
   "outputs": [
    {
     "data": {
      "text/plain": [
       "Text(0.5, 1.0, '')"
      ]
     },
     "execution_count": 65,
     "metadata": {},
     "output_type": "execute_result"
    },
    {
     "data": {
      "image/png": "[encoded data removed]",
      "text/plain": [
       "<Figure size 432x288 with 1 Axes>"
      ]
     },
     "metadata": {},
     "output_type": "display_data"
    }
   ],
   "source": [
    "df_boxplot = wh2.filter(['Economy (GDP per Capita)', 'agglomerative'], axis=1)\n",
    "\n",
    "plt.style.use('ggplot')\n",
    "df_plt = df_boxplot.sort_values(by=['agglomerative'])\n",
    "fig = df_plt.boxplot(by=['agglomerative'])\n",
    "fig.set_title('')"
   ]
  },
  {
   "cell_type": "markdown",
   "metadata": {},
   "source": [
    "The boxplot above shows that group 0 had the highest values, 1 had the lowest and 2 was inbetween which agrees with the previous observations. The groups seem to have a relatively similar range between their quartiles none of which are particularly condense."
   ]
  },
  {
   "cell_type": "code",
   "execution_count": 66,
   "metadata": {},
   "outputs": [
    {
     "name": "stdout",
     "output_type": "stream",
     "text": [
      "The average Happiness Score for cluster 0: \n",
      "6.430056338028168\n",
      "The average Happiness Score for cluster 1: \n",
      "4.037066666666666\n",
      "The average Happiness Score for cluster 2: \n",
      "5.170025\n"
     ]
    }
   ],
   "source": [
    "agg1 = []\n",
    "agg2 = []\n",
    "agg3 = []\n",
    "y = 0\n",
    "labels_true = wh['Happiness Score']\n",
    "while y < agglomerative.size - 1:\n",
    "    if agglomerative[0][y] == 0:\n",
    "        agg1.append(y)\n",
    "    elif agglomerative[0][y] == 1:\n",
    "        agg2.append(y)\n",
    "    else:\n",
    "        agg3.append(y)\n",
    "    y = y + 1\n",
    "\n",
    "count = 0\n",
    "agg_mean_1 = 0\n",
    "agg_mean_2 = 0\n",
    "agg_mean_3 = 0\n",
    "while count < len(labels_true):\n",
    "    if count in agg1:\n",
    "        agg_mean_1 += labels_true[count]\n",
    "    elif count in agg2:\n",
    "        agg_mean_2 += labels_true[count]\n",
    "    else:\n",
    "        agg_mean_3 += labels_true[count]\n",
    "    count = count + 1\n",
    "\n",
    "avg_agg1 = agg_mean_1 / len(agg1)\n",
    "avg_agg2 = agg_mean_2 / len(agg2)\n",
    "avg_agg3 = agg_mean_3 / len(agg3)\n",
    "print(\"The average Happiness Score for cluster 0: \")\n",
    "print(avg_agg1)\n",
    "print(\"The average Happiness Score for cluster 1: \")\n",
    "print(avg_agg2)\n",
    "print(\"The average Happiness Score for cluster 2: \")\n",
    "print(avg_agg3)"
   ]
  },
  {
   "cell_type": "markdown",
   "metadata": {},
   "source": [
    "The Happiness Scores again coincide with what our predictor variables Family and GDP per Capita would have predicted. The purple cluster 0 group has the highest average Happiness Score at 6.43005633. The Happiness Scores were lower on average than the k-means model. Overall, the agglomerative model seemed to perform worse than k-means."
   ]
  },
  {
   "cell_type": "markdown",
   "metadata": {},
   "source": [
    "### Affinity Propagation "
   ]
  },
  {
   "cell_type": "code",
   "execution_count": 67,
   "metadata": {},
   "outputs": [],
   "source": [
    "def doAffinity(X):\n",
    "    model = AffinityPropagation(damping = 0.5, max_iter = 250, affinity = 'euclidean')\n",
    "    model.fit(X)\n",
    "    clust_labels2 = model.predict(X)\n",
    "    cent2 = model.cluster_centers_\n",
    "    return (clust_labels2, cent2)\n",
    "\n",
    "clust_labels2, cent2 = doAffinity(wh3)\n",
    "affinity = pd.DataFrame(clust_labels2)\n",
    "wh3.insert((wh3.shape[1]),'affinity',affinity)"
   ]
  },
  {
   "cell_type": "code",
   "execution_count": 68,
   "metadata": {},
   "outputs": [
    {
     "data": {
      "text/plain": [
       "<matplotlib.colorbar.Colorbar at 0x29b8a166b38>"
      ]
     },
     "execution_count": 68,
     "metadata": {},
     "output_type": "execute_result"
    },
    {
     "data": {
      "image/png": "[encoded data removed]",
      "text/plain": [
       "<Figure size 432x288 with 2 Axes>"
      ]
     },
     "metadata": {},
     "output_type": "display_data"
    }
   ],
   "source": [
    "#Plotting the cluster obtained using Affinity algorithm\n",
    "fig = plt.figure()\n",
    "ax = fig.add_subplot(111)\n",
    "scatter = ax.scatter(wh3['Economy (GDP per Capita)'],wh3['Family'],\n",
    "                     c=affinity[0],s=50)\n",
    "ax.set_title('Affinity Clustering')\n",
    "ax.set_xlabel('GDP per Capita')\n",
    "ax.set_ylabel('Family')\n",
    "plt.colorbar(scatter)"
   ]
  },
  {
   "cell_type": "code",
   "execution_count": 69,
   "metadata": {},
   "outputs": [
    {
     "data": {
      "text/html": [
       "<div>\n",
       "<style scoped>\n",
       "    .dataframe tbody tr th:only-of-type {\n",
       "        vertical-align: middle;\n",
       "    }\n",
       "\n",
       "    .dataframe tbody tr th {\n",
       "        vertical-align: top;\n",
       "    }\n",
       "\n",
       "    .dataframe thead th {\n",
       "        text-align: right;\n",
       "    }\n",
       "</style>\n",
       "<table border=\"1\" class=\"dataframe\">\n",
       "  <thead>\n",
       "    <tr style=\"text-align: right;\">\n",
       "      <th></th>\n",
       "      <th>Economy (GDP per Capita)</th>\n",
       "    </tr>\n",
       "    <tr>\n",
       "      <th>affinity</th>\n",
       "      <th></th>\n",
       "    </tr>\n",
       "  </thead>\n",
       "  <tbody>\n",
       "    <tr>\n",
       "      <th>0</th>\n",
       "      <td>1.455180</td>\n",
       "    </tr>\n",
       "    <tr>\n",
       "      <th>1</th>\n",
       "      <td>1.177498</td>\n",
       "    </tr>\n",
       "    <tr>\n",
       "      <th>2</th>\n",
       "      <td>1.534246</td>\n",
       "    </tr>\n",
       "    <tr>\n",
       "      <th>3</th>\n",
       "      <td>0.804742</td>\n",
       "    </tr>\n",
       "    <tr>\n",
       "      <th>4</th>\n",
       "      <td>1.174852</td>\n",
       "    </tr>\n",
       "    <tr>\n",
       "      <th>5</th>\n",
       "      <td>1.251541</td>\n",
       "    </tr>\n",
       "    <tr>\n",
       "      <th>6</th>\n",
       "      <td>0.980124</td>\n",
       "    </tr>\n",
       "    <tr>\n",
       "      <th>7</th>\n",
       "      <td>0.533903</td>\n",
       "    </tr>\n",
       "    <tr>\n",
       "      <th>8</th>\n",
       "      <td>0.789336</td>\n",
       "    </tr>\n",
       "    <tr>\n",
       "      <th>9</th>\n",
       "      <td>1.042376</td>\n",
       "    </tr>\n",
       "    <tr>\n",
       "      <th>10</th>\n",
       "      <td>0.465258</td>\n",
       "    </tr>\n",
       "    <tr>\n",
       "      <th>11</th>\n",
       "      <td>0.303342</td>\n",
       "    </tr>\n",
       "  </tbody>\n",
       "</table>\n",
       "</div>"
      ],
      "text/plain": [
       "          Economy (GDP per Capita)\n",
       "affinity                          \n",
       "0                         1.455180\n",
       "1                         1.177498\n",
       "2                         1.534246\n",
       "3                         0.804742\n",
       "4                         1.174852\n",
       "5                         1.251541\n",
       "6                         0.980124\n",
       "7                         0.533903\n",
       "8                         0.789336\n",
       "9                         1.042376\n",
       "10                        0.465258\n",
       "11                        0.303342"
      ]
     },
     "execution_count": 69,
     "metadata": {},
     "output_type": "execute_result"
    }
   ],
   "source": [
    "# split df into cluster groups\n",
    "df_heat_aff = wh3.filter(['Economy (GDP per Capita)', 'affinity'], axis=1)\n",
    "aff_grouped = df_heat_aff.groupby(['affinity'], sort=True)\n",
    "# compute average for each cluster\n",
    "aff_means = aff_grouped.mean()\n",
    "aff_means"
   ]
  },
  {
   "cell_type": "code",
   "execution_count": 70,
   "metadata": {},
   "outputs": [
    {
     "data": {
      "text/html": [
       "<div>\n",
       "<style scoped>\n",
       "    .dataframe tbody tr th:only-of-type {\n",
       "        vertical-align: middle;\n",
       "    }\n",
       "\n",
       "    .dataframe tbody tr th {\n",
       "        vertical-align: top;\n",
       "    }\n",
       "\n",
       "    .dataframe thead th {\n",
       "        text-align: right;\n",
       "    }\n",
       "</style>\n",
       "<table border=\"1\" class=\"dataframe\">\n",
       "  <thead>\n",
       "    <tr style=\"text-align: right;\">\n",
       "      <th></th>\n",
       "      <th>Family</th>\n",
       "    </tr>\n",
       "    <tr>\n",
       "      <th>affinity</th>\n",
       "      <th></th>\n",
       "    </tr>\n",
       "  </thead>\n",
       "  <tbody>\n",
       "    <tr>\n",
       "      <th>0</th>\n",
       "      <td>1.109004</td>\n",
       "    </tr>\n",
       "    <tr>\n",
       "      <th>1</th>\n",
       "      <td>0.993244</td>\n",
       "    </tr>\n",
       "    <tr>\n",
       "      <th>2</th>\n",
       "      <td>0.970941</td>\n",
       "    </tr>\n",
       "    <tr>\n",
       "      <th>3</th>\n",
       "      <td>0.791271</td>\n",
       "    </tr>\n",
       "    <tr>\n",
       "      <th>4</th>\n",
       "      <td>0.929518</td>\n",
       "    </tr>\n",
       "    <tr>\n",
       "      <th>5</th>\n",
       "      <td>0.956373</td>\n",
       "    </tr>\n",
       "    <tr>\n",
       "      <th>6</th>\n",
       "      <td>0.810490</td>\n",
       "    </tr>\n",
       "    <tr>\n",
       "      <th>7</th>\n",
       "      <td>0.577557</td>\n",
       "    </tr>\n",
       "    <tr>\n",
       "      <th>8</th>\n",
       "      <td>0.613209</td>\n",
       "    </tr>\n",
       "    <tr>\n",
       "      <th>9</th>\n",
       "      <td>0.880584</td>\n",
       "    </tr>\n",
       "    <tr>\n",
       "      <th>10</th>\n",
       "      <td>0.614645</td>\n",
       "    </tr>\n",
       "    <tr>\n",
       "      <th>11</th>\n",
       "      <td>0.396308</td>\n",
       "    </tr>\n",
       "  </tbody>\n",
       "</table>\n",
       "</div>"
      ],
      "text/plain": [
       "            Family\n",
       "affinity          \n",
       "0         1.109004\n",
       "1         0.993244\n",
       "2         0.970941\n",
       "3         0.791271\n",
       "4         0.929518\n",
       "5         0.956373\n",
       "6         0.810490\n",
       "7         0.577557\n",
       "8         0.613209\n",
       "9         0.880584\n",
       "10        0.614645\n",
       "11        0.396308"
      ]
     },
     "execution_count": 70,
     "metadata": {},
     "output_type": "execute_result"
    }
   ],
   "source": [
    "# split df into cluster groups\n",
    "df_heat_aff_f = wh3.filter(['Family', 'affinity'], axis=1)\n",
    "aff_grouped_f = df_heat_aff_f.groupby(['affinity'], sort=True)\n",
    "# compute average for each cluster\n",
    "aff_means_f = aff_grouped_f.mean()\n",
    "aff_means_f"
   ]
  },
  {
   "cell_type": "markdown",
   "metadata": {},
   "source": [
    "The output above shows how the average GDP per Capita changes with the different groups in the affinity propagation clustering algorithm as well as the Family values.\n",
    "\n",
    "From the tables, I can see that the correlations tend decrease with the group numbers. Cluster 0 is the only cluster with a Family and GDP per Capita value over 1.0."
   ]
  },
  {
   "cell_type": "code",
   "execution_count": 71,
   "metadata": {},
   "outputs": [
    {
     "data": {
      "text/plain": [
       "Text(0.5, 1.0, '')"
      ]
     },
     "execution_count": 71,
     "metadata": {},
     "output_type": "execute_result"
    },
    {
     "data": {
      "image/png": "[encoded data removed]",
      "text/plain": [
       "<Figure size 432x288 with 1 Axes>"
      ]
     },
     "metadata": {},
     "output_type": "display_data"
    }
   ],
   "source": [
    "df_boxplot = wh3.filter(['Economy (GDP per Capita)', 'affinity'], axis=1)\n",
    "\n",
    "plt.style.use('ggplot')\n",
    "df_plt = df_boxplot.sort_values(by=['affinity'])\n",
    "fig = df_plt.boxplot(by=['affinity'])\n",
    "fig.set_title('')"
   ]
  },
  {
   "cell_type": "markdown",
   "metadata": {},
   "source": [
    "The box plot shows that groups 0, 1, 2, 4, 5, and 9 performed with an average over 1.00. Cluster 0, 2, 5, and 9 have very small differences between their quartiles which means the clusters were very small in area and rather condense. This could be because of the relatively low amounts of datapoints and yet a relatively large number of clusters at 12. Clusters 6 and 7 have very large differences between their quartiles given the size of each cluster is small."
   ]
  },
  {
   "cell_type": "markdown",
   "metadata": {},
   "source": [
    "### Gaussian Mixture Modeling"
   ]
  },
  {
   "cell_type": "code",
   "execution_count": 72,
   "metadata": {},
   "outputs": [],
   "source": [
    "def doGMM(X, nclust=3):\n",
    "    model = GaussianMixture(n_components=nclust,init_params='kmeans')\n",
    "    model.fit(X)\n",
    "    clust_labels3 = model.predict(X)\n",
    "    return (clust_labels3)\n",
    "\n",
    "clust_labels3 = doGMM(wh4,3)\n",
    "gmm = pd.DataFrame(clust_labels3)\n",
    "wh4.insert((wh4.shape[1]),'gmm',gmm)"
   ]
  },
  {
   "cell_type": "code",
   "execution_count": 73,
   "metadata": {},
   "outputs": [
    {
     "data": {
      "text/plain": [
       "<matplotlib.colorbar.Colorbar at 0x29b8a2b92e8>"
      ]
     },
     "execution_count": 73,
     "metadata": {},
     "output_type": "execute_result"
    },
    {
     "data": {
      "image/png": "[encoded data removed]",
      "text/plain": [
       "<Figure size 432x288 with 2 Axes>"
      ]
     },
     "metadata": {},
     "output_type": "display_data"
    }
   ],
   "source": [
    "#Plotting the cluster obtained using GMM\n",
    "fig = plt.figure()\n",
    "ax = fig.add_subplot(111)\n",
    "scatter = ax.scatter(wh4['Economy (GDP per Capita)'],wh4['Family'],\n",
    "                     c=gmm[0],s=50)\n",
    "ax.set_title('Gaussian Mixture Model')\n",
    "ax.set_xlabel('GDP per Capita')\n",
    "ax.set_ylabel('Family')\n",
    "plt.colorbar(scatter)"
   ]
  },
  {
   "cell_type": "markdown",
   "metadata": {},
   "source": [
    "Purple - 0  \n",
    "Blue - 1  \n",
    "Yellow - 2  "
   ]
  },
  {
   "cell_type": "code",
   "execution_count": 74,
   "metadata": {
    "scrolled": true
   },
   "outputs": [
    {
     "data": {
      "text/html": [
       "<div>\n",
       "<style scoped>\n",
       "    .dataframe tbody tr th:only-of-type {\n",
       "        vertical-align: middle;\n",
       "    }\n",
       "\n",
       "    .dataframe tbody tr th {\n",
       "        vertical-align: top;\n",
       "    }\n",
       "\n",
       "    .dataframe thead th {\n",
       "        text-align: right;\n",
       "    }\n",
       "</style>\n",
       "<table border=\"1\" class=\"dataframe\">\n",
       "  <thead>\n",
       "    <tr style=\"text-align: right;\">\n",
       "      <th></th>\n",
       "      <th>Economy (GDP per Capita)</th>\n",
       "    </tr>\n",
       "    <tr>\n",
       "      <th>gmm</th>\n",
       "      <th></th>\n",
       "    </tr>\n",
       "  </thead>\n",
       "  <tbody>\n",
       "    <tr>\n",
       "      <th>0</th>\n",
       "      <td>0.491089</td>\n",
       "    </tr>\n",
       "    <tr>\n",
       "      <th>1</th>\n",
       "      <td>1.420811</td>\n",
       "    </tr>\n",
       "    <tr>\n",
       "      <th>2</th>\n",
       "      <td>0.962900</td>\n",
       "    </tr>\n",
       "  </tbody>\n",
       "</table>\n",
       "</div>"
      ],
      "text/plain": [
       "     Economy (GDP per Capita)\n",
       "gmm                          \n",
       "0                    0.491089\n",
       "1                    1.420811\n",
       "2                    0.962900"
      ]
     },
     "execution_count": 74,
     "metadata": {},
     "output_type": "execute_result"
    }
   ],
   "source": [
    "# split df into cluster groups\n",
    "df_heat_gmm = wh4.filter(['Economy (GDP per Capita)', 'gmm'], axis=1)\n",
    "grouped_gmm = df_heat_gmm.groupby(['gmm'], sort=True)\n",
    "# compute average for each cluster\n",
    "gmm_means = grouped_gmm.mean()\n",
    "gmm_means"
   ]
  },
  {
   "cell_type": "code",
   "execution_count": 77,
   "metadata": {},
   "outputs": [
    {
     "data": {
      "text/html": [
       "<div>\n",
       "<style scoped>\n",
       "    .dataframe tbody tr th:only-of-type {\n",
       "        vertical-align: middle;\n",
       "    }\n",
       "\n",
       "    .dataframe tbody tr th {\n",
       "        vertical-align: top;\n",
       "    }\n",
       "\n",
       "    .dataframe thead th {\n",
       "        text-align: right;\n",
       "    }\n",
       "</style>\n",
       "<table border=\"1\" class=\"dataframe\">\n",
       "  <thead>\n",
       "    <tr style=\"text-align: right;\">\n",
       "      <th></th>\n",
       "      <th>Family</th>\n",
       "    </tr>\n",
       "    <tr>\n",
       "      <th>gmm</th>\n",
       "      <th></th>\n",
       "    </tr>\n",
       "  </thead>\n",
       "  <tbody>\n",
       "    <tr>\n",
       "      <th>0</th>\n",
       "      <td>0.550404</td>\n",
       "    </tr>\n",
       "    <tr>\n",
       "      <th>1</th>\n",
       "      <td>1.032736</td>\n",
       "    </tr>\n",
       "    <tr>\n",
       "      <th>2</th>\n",
       "      <td>0.800816</td>\n",
       "    </tr>\n",
       "  </tbody>\n",
       "</table>\n",
       "</div>"
      ],
      "text/plain": [
       "       Family\n",
       "gmm          \n",
       "0    0.550404\n",
       "1    1.032736\n",
       "2    0.800816"
      ]
     },
     "execution_count": 77,
     "metadata": {},
     "output_type": "execute_result"
    }
   ],
   "source": [
    "# split df into cluster groups\n",
    "df_heat_gmm_f = wh4.filter(['Family', 'gmm'], axis=1)\n",
    "grouped_gmm_f = df_heat_gmm_f.groupby(['gmm'], sort=True)\n",
    "# compute average for each cluster\n",
    "gmm_means_f = grouped_gmm_f.mean()\n",
    "gmm_means_f"
   ]
  },
  {
   "cell_type": "markdown",
   "metadata": {},
   "source": [
    "The output above shows how the average GDP per Capita changes with the different groups in the Gaussian Mixture Modeling algorithm as well as the Family values.\n",
    "\n",
    "From the tables, I can see that group 1 had the highest correlation between the two which was the blue group that also appeared to be the best in the graphical output. Cluster 0 (purple) had the lowest average GDP per Capita and Family which makes sense from the graphical representation. The other cluster (yellow - 2) for has values between the previous two groups which makes sense from the graphical representation."
   ]
  },
  {
   "cell_type": "code",
   "execution_count": 81,
   "metadata": {},
   "outputs": [
    {
     "data": {
      "text/plain": [
       "Text(0.5, 1.0, '')"
      ]
     },
     "execution_count": 81,
     "metadata": {},
     "output_type": "execute_result"
    },
    {
     "data": {
      "image/png": "[encoded data removed]",
      "text/plain": [
       "<Figure size 432x288 with 1 Axes>"
      ]
     },
     "metadata": {},
     "output_type": "display_data"
    }
   ],
   "source": [
    "df_boxplot = wh4.filter(['Economy (GDP per Capita)', 'gmm'], axis=1)\n",
    "\n",
    "plt.style.use('ggplot')\n",
    "df_plt = df_boxplot.sort_values(by=['gmm'])\n",
    "fig = df_plt.boxplot(by=['gmm'])\n",
    "fig.set_title('')"
   ]
  },
  {
   "cell_type": "markdown",
   "metadata": {},
   "source": [
    "The boxplot for the Gaussian Mixture Model showed that clusters 1 and 2 had a correlation above 1.00. Cluster 1 had a small range between its quartiles and appears to be relatively condense. The other two both have much larger ranges."
   ]
  },
  {
   "cell_type": "code",
   "execution_count": 82,
   "metadata": {},
   "outputs": [
    {
     "name": "stdout",
     "output_type": "stream",
     "text": [
      "The average Happiness Score for cluster 0: \n",
      "4.045228571428572\n",
      "The average Happiness Score for cluster 1: \n",
      "6.862117647058824\n",
      "The average Happiness Score for cluster 2: \n",
      "5.403540229885057\n"
     ]
    }
   ],
   "source": [
    "gmm1 = []\n",
    "gmm2 = []\n",
    "gmm3 = []\n",
    "y = 0\n",
    "labels_true = wh['Happiness Score']\n",
    "while y < gmm.size - 1:\n",
    "    if wh4['gmm'][y] == 0:\n",
    "        gmm1.append(y)\n",
    "    elif wh4['gmm'][y] == 1:\n",
    "        gmm2.append(y)\n",
    "    else:\n",
    "        gmm3.append(y)\n",
    "    y = y + 1\n",
    "\n",
    "count = 0\n",
    "gmm_mean_1 = 0\n",
    "gmm_mean_2 = 0\n",
    "gmm_mean_3 = 0\n",
    "while count < len(labels_true):\n",
    "    if count in gmm1:\n",
    "        gmm_mean_1 += labels_true[count]\n",
    "    elif count in gmm2:\n",
    "        gmm_mean_2 += labels_true[count]\n",
    "    else:\n",
    "        gmm_mean_3 += labels_true[count]\n",
    "    count = count + 1\n",
    "\n",
    "avg_gmm1 = gmm_mean_1 / len(gmm1)\n",
    "avg_gmm2 = gmm_mean_2 / len(gmm2)\n",
    "avg_gmm3 = gmm_mean_3 / len(gmm3)\n",
    "print(\"The average Happiness Score for cluster 0: \")\n",
    "print(avg_gmm1)\n",
    "print(\"The average Happiness Score for cluster 1: \")\n",
    "print(avg_gmm2)\n",
    "print(\"The average Happiness Score for cluster 2: \")\n",
    "print(avg_gmm3)"
   ]
  },
  {
   "cell_type": "markdown",
   "metadata": {},
   "source": [
    "The averages show that cluster 1 had the highest Happiness Scores which coincides with the prediction attributes GDP per Capita and Family. Cluster 0 was also relatively low which means the Guassian mixture model did a good job of predicting the extremes and putting them into the correct cluster. From the measures taken, it appears that the Guassian model outperformed the other three. More to come in the conclusion."
   ]
  },
  {
   "cell_type": "markdown",
   "metadata": {},
   "source": [
    "## Conclusion"
   ]
  },
  {
   "cell_type": "markdown",
   "metadata": {},
   "source": [
    "### Summary of Results\n",
    "\n",
    "**k-means**    \n",
    "GDP per Capita mean value:  \n",
    "\n",
    "* Purple (cluster 0) - 0.553709 \n",
    "* Blue (cluster 1) - 1.341650\n",
    "* Yellow (cluster 2) - 0.982444\n",
    "\n",
    "Family:  \n",
    "\n",
    "* Purple (cluster 0) - 0.559753  \n",
    "* Blue (cluster 1) - 1.012502  \n",
    "* Yellow (cluster 2) - 0.816056  \n",
    "\n",
    "Happiness Score:\n",
    "\n",
    "* Purple (cluster 0) - 4.065708333333332 \n",
    "* Blue (cluster 1) - 6.837652173913042\n",
    "* Yellow (cluster 2) - 5.455193548387095\n",
    "\n",
    "**Agglomerative**    \n",
    "GDP per Capita mean value:  \n",
    "\n",
    "* Purple (cluster 0) - 1.256579  \n",
    "* Blue (cluster 1) - 0.576628\n",
    "* Yellow (cluster 2) - 0.850429  \n",
    "\n",
    "Family:  \n",
    "\n",
    "* Purple (cluster 0) - 0.985823   \n",
    "* Blue (cluster 1) - 0.563832\n",
    "* Yellow (cluster 2) - 0.716721  \n",
    "\n",
    "\n",
    "Happiness Score:\n",
    "\n",
    "* Purple (cluster 0) - 6.430056338028168\n",
    "* Blue (cluster 1) - 4.037066666666666\n",
    "* Yellow (cluster 2) - 5.170025\n",
    "\n",
    "**Affinity Propagation**  \n",
    "GDP per Capita mean value:  \n",
    "\n",
    "* cluster 0 \t1.455180\n",
    "* cluster 1 \t1.177498\n",
    "* cluster 2 \t1.534246\n",
    "* cluster 3 \t0.804742\n",
    "* cluster 4 \t1.174852\n",
    "* cluster 5 \t1.251541\n",
    "* cluster 6 \t0.980124\n",
    "* cluster 7 \t0.533903\n",
    "* cluster 8 \t0.789336\n",
    "* cluster 9 \t1.042376\n",
    "* cluster 10\t0.465258\n",
    "* cluster 11\t0.303342\n",
    "\n",
    "Family: \n",
    "\n",
    "* cluster 0 \t1.109004\n",
    "* cluster 1 \t0.993244\n",
    "* cluster 2 \t0.970941\n",
    "* cluster 3 \t0.791271\n",
    "* cluster 4 \t0.929518\n",
    "* cluster 5 \t0.956373\n",
    "* cluster 6 \t0.810490\n",
    "* cluster 7 \t0.577557\n",
    "* cluster 8 \t0.613209\n",
    "* cluster 9\t    0.880584\n",
    "* clutser 10\t0.614645\n",
    "* cluster 11\t0.396308\n",
    "\n",
    "**Gaussian Mixture Modeling**  \n",
    "GDP per Capita mean value:  \n",
    "\n",
    "* Purple (cluster 0) - 0.491089  \n",
    "* Blue (cluster 1) - 1.420811\n",
    "* Yellow (cluster 2) - 0.962900  \n",
    "\n",
    "Family:  \n",
    "\n",
    "* Purple (cluster 0) - 0.550404  \n",
    "* Blue (cluster 1) - 1.032736\n",
    "* Yellow (cluster 2) - 0.800816  \n",
    "\n",
    "Happiness Score:\n",
    "\n",
    "* Purple (cluster 0) - 4.045228571428572\n",
    "* Blue (cluster 1) - 6.862117647058824\n",
    "* Yellow (cluster 2) - 5.403540229885057\n",
    "\n",
    "The boxplots and Happiness Score evaluation metrics both show that the Gaussian Mixture Model does the best job of clustering. The Gaussian model achieved the highest Happiness Score, Family, and GDP per Capita with blue cluster (cluster 1). This means it did the best job of finding a strongly correlated group. The Gaussian Mixture Model also has the lowest valued cluster (purple cluster 0). This also means it did the best job of finding the lower Family and GDP per Capita which in turn lead to a low Happiness Score for that cluster. The k-means and Gaussian Mixture models also had two groups that had an average above 1.0 on the boxplot. The agglomerative algorithm seemed perform the worst, aside from perhaps affinity propagation. The affinity propagation algorithm has 12 clusters, but from the sse vs number of clusters plot I can see that 3 clusters is supposed to be optimal. Thus, the other three models performed the best for clustering the dataset. \n",
    "\n",
    "In each model, there are certain clusters that I would conclude to be the be the highest correlation which have the highest Family and GDP per Capita scores. From the original plot of the data in the Exploratory Data Analysis section, Economy (GDP per Capita) and then Family were seen to be the best predictors of the Happiness Score. Thus, when both values are high it is more likely that the Happiness Score would be high. The highest valued cluster by averaging the GDP per Capita and Family would produce the cluster that contains instances with the highest chance of having a high Happiness score. The overall best clusters in the dataset are the blue (cluster 1) from the Gaussian Mixture Model, and cluster 0 from affinity propagation (given the affinity model had 11 clusters so the highest cluster can be more of an outlier). By contrast, the clusters with the lowest Family and GPA per Capita scores are clusters that are likely to have the lowest Happiness Score. In the dataset the lowest scores were also in the Gaussian Mixture model with cluster 0 (purple). \n",
    "\n",
    "In further experiments, I would look to test more attributes to see how the clusters differ. Life Expectancy was the third best predictor of Happiness Score so it would be interesting to see how adding another dimension to the cluster models would affect the outcome. I would like to experiment with a larger dataset as this one only had 157 items. I think it is harder to make a consistent model with such few items in the dataset. Having a limited dataset is one of the reasons why three clusters is considered optimal as the models won't cluster outliers which could be the case in the affinity propagation model. "
   ]
  }
 ],
 "metadata": {
  "kernelspec": {
   "display_name": "Python 3",
   "language": "python",
   "name": "python3"
  },
  "language_info": {
   "codemirror_mode": {
    "name": "ipython",
    "version": 3
   },
   "file_extension": ".py",
   "mimetype": "text/x-python",
   "name": "python",
   "nbconvert_exporter": "python",
   "pygments_lexer": "ipython3",
   "version": "3.7.1"
  }
 },
 "nbformat": 4,
 "nbformat_minor": 2
}
