{
 "cells": [
  {
   "cell_type": "markdown",
   "metadata": {},
   "source": [
    "<h1 align=\"center\"> Classification </h1>\n",
    "<h3 align=\"center\"> Evan Ditter </h3>\n",
    "<h3 align=\"center\">March 4, 2019</h3>"
   ]
  },
  {
   "cell_type": "code",
   "execution_count": 1,
   "metadata": {},
   "outputs": [],
   "source": [
    "import pandas as pd\n",
    "import numpy as np\n",
    "import matplotlib.pyplot as plt\n",
    "import seaborn as sns\n",
    "import statsmodels.api as sm\n",
    "from sklearn.metrics import confusion_matrix\n",
    "from sklearn.metrics import roc_auc_score\n",
    "from sklearn import tree\n",
    "from sklearn import model_selection\n",
    "from sklearn.metrics import roc_curve, auc\n",
    "from sklearn.ensemble import RandomForestClassifier\n",
    "from sklearn.ensemble import BaggingClassifier\n",
    "from sklearn.ensemble import AdaBoostClassifier"
   ]
  },
  {
   "cell_type": "markdown",
   "metadata": {},
   "source": [
    "## Overview\n",
    "\n",
    "In this lab I will analyze the question: **Can you predict who would be interested in buying a caravan insurance policy and give an explanation**. This question is explored through classification using bagging, booting and random forests of data collected on the customerbase for an insurance company's \"caravan insurance\" policy. This can be viewed in more detail in the models section.\n",
    "\n",
    "**References and Sources:**\n",
    "* Data sourced from: https://www.kaggle.com/uciml/caravan-insurance-challenge/version/1\n",
    "*P. van der Putten and M. van Someren (eds) . CoIL Challenge 2000: The Insurance Company Case. Published by Sentient Machine Research, Amsterdam. Also a Leiden Institute of Advanced Computer Science Technical Report 2000-09. June 22, 2000.*\n",
    "* Referenced: https://github.com/jayanttikmani/cross-sellingCaravanInsuranceUsingDataMining\n",
    "* Code referenced: https://machinelearningmastery.com/ensemble-machine-learning-algorithms-python-scikit-learn/\n",
    "* Code referenced: https://www.analyticsvidhya.com/blog/2018/06/comprehensive-guide-for-ensemble-models/\n",
    "* Code refernced: https://www.kaggle.com/rafjaa/resampling-strategies-for-imbalanced-datasets"
   ]
  },
  {
   "cell_type": "markdown",
   "metadata": {},
   "source": [
    "## Data\n",
    "\n",
    "**Definitions**\n",
    "* **Under-sampling** - The selection of fewer samples from a specific class than another for the creation of a model. This allows that class to be less heavily weighted than some other class.\n",
    "* **Over-sampling** - The selection of more samples from a specific class than another for the creation of a model. This allows that class to be more heavily weighted than some other class.\n",
    "* **SMOTE** - Synthetic Minority Over-sampling TechniquE is an over-samping method by which a dataset may help weight a factor in a dataset by creating synthetic datapoints based on real observations.\n",
    "\n",
    "As stated at the data source: \"this data set used in the CoIL 2000 Challenge contains information on customers of an insurance company. The data consists of 86 variables and includes product usage data and socio-demographic data derived from zip area codes. The data was collected to answer the following question: Can you predict who would be interested in buying a caravan insurance policy and give an explanation why?\"(P. van der Putten et al). As stated in the references, one can download the utilized data set from https://www.kaggle.com/uciml/caravan-insurance-challenge/version/1. The meaning of columns can also be taken from this link."
   ]
  },
  {
   "cell_type": "markdown",
   "metadata": {},
   "source": [
    "## Exploratory Data Analysis"
   ]
  },
  {
   "cell_type": "code",
   "execution_count": 2,
   "metadata": {},
   "outputs": [
    {
     "data": {
      "text/html": [
       "<div>\n",
       "<style scoped>\n",
       "    .dataframe tbody tr th:only-of-type {\n",
       "        vertical-align: middle;\n",
       "    }\n",
       "\n",
       "    .dataframe tbody tr th {\n",
       "        vertical-align: top;\n",
       "    }\n",
       "\n",
       "    .dataframe thead th {\n",
       "        text-align: right;\n",
       "    }\n",
       "</style>\n",
       "<table border=\"1\" class=\"dataframe\">\n",
       "  <thead>\n",
       "    <tr style=\"text-align: right;\">\n",
       "      <th></th>\n",
       "      <th>ORIGIN</th>\n",
       "      <th>MOSTYPE</th>\n",
       "      <th>MAANTHUI</th>\n",
       "      <th>MGEMOMV</th>\n",
       "      <th>MGEMLEEF</th>\n",
       "      <th>MOSHOOFD</th>\n",
       "      <th>MGODRK</th>\n",
       "      <th>MGODPR</th>\n",
       "      <th>MGODOV</th>\n",
       "      <th>MGODGE</th>\n",
       "      <th>...</th>\n",
       "      <th>APERSONG</th>\n",
       "      <th>AGEZONG</th>\n",
       "      <th>AWAOREG</th>\n",
       "      <th>ABRAND</th>\n",
       "      <th>AZEILPL</th>\n",
       "      <th>APLEZIER</th>\n",
       "      <th>AFIETS</th>\n",
       "      <th>AINBOED</th>\n",
       "      <th>ABYSTAND</th>\n",
       "      <th>CARAVAN</th>\n",
       "    </tr>\n",
       "  </thead>\n",
       "  <tbody>\n",
       "    <tr>\n",
       "      <th>0</th>\n",
       "      <td>train</td>\n",
       "      <td>33</td>\n",
       "      <td>1</td>\n",
       "      <td>3</td>\n",
       "      <td>2</td>\n",
       "      <td>8</td>\n",
       "      <td>0</td>\n",
       "      <td>5</td>\n",
       "      <td>1</td>\n",
       "      <td>3</td>\n",
       "      <td>...</td>\n",
       "      <td>0</td>\n",
       "      <td>0</td>\n",
       "      <td>0</td>\n",
       "      <td>1</td>\n",
       "      <td>0</td>\n",
       "      <td>0</td>\n",
       "      <td>0</td>\n",
       "      <td>0</td>\n",
       "      <td>0</td>\n",
       "      <td>0</td>\n",
       "    </tr>\n",
       "    <tr>\n",
       "      <th>1</th>\n",
       "      <td>train</td>\n",
       "      <td>37</td>\n",
       "      <td>1</td>\n",
       "      <td>2</td>\n",
       "      <td>2</td>\n",
       "      <td>8</td>\n",
       "      <td>1</td>\n",
       "      <td>4</td>\n",
       "      <td>1</td>\n",
       "      <td>4</td>\n",
       "      <td>...</td>\n",
       "      <td>0</td>\n",
       "      <td>0</td>\n",
       "      <td>0</td>\n",
       "      <td>1</td>\n",
       "      <td>0</td>\n",
       "      <td>0</td>\n",
       "      <td>0</td>\n",
       "      <td>0</td>\n",
       "      <td>0</td>\n",
       "      <td>0</td>\n",
       "    </tr>\n",
       "    <tr>\n",
       "      <th>2</th>\n",
       "      <td>train</td>\n",
       "      <td>37</td>\n",
       "      <td>1</td>\n",
       "      <td>2</td>\n",
       "      <td>2</td>\n",
       "      <td>8</td>\n",
       "      <td>0</td>\n",
       "      <td>4</td>\n",
       "      <td>2</td>\n",
       "      <td>4</td>\n",
       "      <td>...</td>\n",
       "      <td>0</td>\n",
       "      <td>0</td>\n",
       "      <td>0</td>\n",
       "      <td>1</td>\n",
       "      <td>0</td>\n",
       "      <td>0</td>\n",
       "      <td>0</td>\n",
       "      <td>0</td>\n",
       "      <td>0</td>\n",
       "      <td>0</td>\n",
       "    </tr>\n",
       "    <tr>\n",
       "      <th>3</th>\n",
       "      <td>train</td>\n",
       "      <td>9</td>\n",
       "      <td>1</td>\n",
       "      <td>3</td>\n",
       "      <td>3</td>\n",
       "      <td>3</td>\n",
       "      <td>2</td>\n",
       "      <td>3</td>\n",
       "      <td>2</td>\n",
       "      <td>4</td>\n",
       "      <td>...</td>\n",
       "      <td>0</td>\n",
       "      <td>0</td>\n",
       "      <td>0</td>\n",
       "      <td>1</td>\n",
       "      <td>0</td>\n",
       "      <td>0</td>\n",
       "      <td>0</td>\n",
       "      <td>0</td>\n",
       "      <td>0</td>\n",
       "      <td>0</td>\n",
       "    </tr>\n",
       "    <tr>\n",
       "      <th>4</th>\n",
       "      <td>train</td>\n",
       "      <td>40</td>\n",
       "      <td>1</td>\n",
       "      <td>4</td>\n",
       "      <td>2</td>\n",
       "      <td>10</td>\n",
       "      <td>1</td>\n",
       "      <td>4</td>\n",
       "      <td>1</td>\n",
       "      <td>4</td>\n",
       "      <td>...</td>\n",
       "      <td>0</td>\n",
       "      <td>0</td>\n",
       "      <td>0</td>\n",
       "      <td>1</td>\n",
       "      <td>0</td>\n",
       "      <td>0</td>\n",
       "      <td>0</td>\n",
       "      <td>0</td>\n",
       "      <td>0</td>\n",
       "      <td>0</td>\n",
       "    </tr>\n",
       "  </tbody>\n",
       "</table>\n",
       "<p>5 rows × 87 columns</p>\n",
       "</div>"
      ],
      "text/plain": [
       "  ORIGIN  MOSTYPE  MAANTHUI  MGEMOMV  MGEMLEEF  MOSHOOFD  MGODRK  MGODPR  \\\n",
       "0  train       33         1        3         2         8       0       5   \n",
       "1  train       37         1        2         2         8       1       4   \n",
       "2  train       37         1        2         2         8       0       4   \n",
       "3  train        9         1        3         3         3       2       3   \n",
       "4  train       40         1        4         2        10       1       4   \n",
       "\n",
       "   MGODOV  MGODGE   ...     APERSONG  AGEZONG  AWAOREG  ABRAND  AZEILPL  \\\n",
       "0       1       3   ...            0        0        0       1        0   \n",
       "1       1       4   ...            0        0        0       1        0   \n",
       "2       2       4   ...            0        0        0       1        0   \n",
       "3       2       4   ...            0        0        0       1        0   \n",
       "4       1       4   ...            0        0        0       1        0   \n",
       "\n",
       "   APLEZIER  AFIETS  AINBOED  ABYSTAND  CARAVAN  \n",
       "0         0       0        0         0        0  \n",
       "1         0       0        0         0        0  \n",
       "2         0       0        0         0        0  \n",
       "3         0       0        0         0        0  \n",
       "4         0       0        0         0        0  \n",
       "\n",
       "[5 rows x 87 columns]"
      ]
     },
     "execution_count": 2,
     "metadata": {},
     "output_type": "execute_result"
    }
   ],
   "source": [
    "df = pd.read_csv(\"caravan-insurance-challenge.csv\")\n",
    "train = df[df[\"ORIGIN\"] == \"train\"]\n",
    "test = df[df[\"ORIGIN\"] == \"test\"]\n",
    "train.head()"
   ]
  },
  {
   "cell_type": "code",
   "execution_count": 3,
   "metadata": {},
   "outputs": [
    {
     "data": {
      "text/html": [
       "<div>\n",
       "<style scoped>\n",
       "    .dataframe tbody tr th:only-of-type {\n",
       "        vertical-align: middle;\n",
       "    }\n",
       "\n",
       "    .dataframe tbody tr th {\n",
       "        vertical-align: top;\n",
       "    }\n",
       "\n",
       "    .dataframe thead th {\n",
       "        text-align: right;\n",
       "    }\n",
       "</style>\n",
       "<table border=\"1\" class=\"dataframe\">\n",
       "  <thead>\n",
       "    <tr style=\"text-align: right;\">\n",
       "      <th></th>\n",
       "      <th>ORIGIN</th>\n",
       "      <th>MOSTYPE</th>\n",
       "      <th>MAANTHUI</th>\n",
       "      <th>MGEMOMV</th>\n",
       "      <th>MGEMLEEF</th>\n",
       "      <th>MOSHOOFD</th>\n",
       "      <th>MGODRK</th>\n",
       "      <th>MGODPR</th>\n",
       "      <th>MGODOV</th>\n",
       "      <th>MGODGE</th>\n",
       "      <th>...</th>\n",
       "      <th>APERSONG</th>\n",
       "      <th>AGEZONG</th>\n",
       "      <th>AWAOREG</th>\n",
       "      <th>ABRAND</th>\n",
       "      <th>AZEILPL</th>\n",
       "      <th>APLEZIER</th>\n",
       "      <th>AFIETS</th>\n",
       "      <th>AINBOED</th>\n",
       "      <th>ABYSTAND</th>\n",
       "      <th>CARAVAN</th>\n",
       "    </tr>\n",
       "  </thead>\n",
       "  <tbody>\n",
       "    <tr>\n",
       "      <th>5822</th>\n",
       "      <td>test</td>\n",
       "      <td>33</td>\n",
       "      <td>1</td>\n",
       "      <td>4</td>\n",
       "      <td>2</td>\n",
       "      <td>8</td>\n",
       "      <td>0</td>\n",
       "      <td>6</td>\n",
       "      <td>0</td>\n",
       "      <td>3</td>\n",
       "      <td>...</td>\n",
       "      <td>0</td>\n",
       "      <td>0</td>\n",
       "      <td>0</td>\n",
       "      <td>1</td>\n",
       "      <td>0</td>\n",
       "      <td>0</td>\n",
       "      <td>0</td>\n",
       "      <td>0</td>\n",
       "      <td>0</td>\n",
       "      <td>0</td>\n",
       "    </tr>\n",
       "    <tr>\n",
       "      <th>5823</th>\n",
       "      <td>test</td>\n",
       "      <td>6</td>\n",
       "      <td>1</td>\n",
       "      <td>3</td>\n",
       "      <td>2</td>\n",
       "      <td>2</td>\n",
       "      <td>0</td>\n",
       "      <td>5</td>\n",
       "      <td>0</td>\n",
       "      <td>4</td>\n",
       "      <td>...</td>\n",
       "      <td>0</td>\n",
       "      <td>0</td>\n",
       "      <td>0</td>\n",
       "      <td>1</td>\n",
       "      <td>0</td>\n",
       "      <td>0</td>\n",
       "      <td>0</td>\n",
       "      <td>0</td>\n",
       "      <td>0</td>\n",
       "      <td>1</td>\n",
       "    </tr>\n",
       "    <tr>\n",
       "      <th>5824</th>\n",
       "      <td>test</td>\n",
       "      <td>39</td>\n",
       "      <td>1</td>\n",
       "      <td>3</td>\n",
       "      <td>3</td>\n",
       "      <td>9</td>\n",
       "      <td>1</td>\n",
       "      <td>4</td>\n",
       "      <td>2</td>\n",
       "      <td>3</td>\n",
       "      <td>...</td>\n",
       "      <td>0</td>\n",
       "      <td>0</td>\n",
       "      <td>0</td>\n",
       "      <td>1</td>\n",
       "      <td>0</td>\n",
       "      <td>0</td>\n",
       "      <td>0</td>\n",
       "      <td>0</td>\n",
       "      <td>0</td>\n",
       "      <td>0</td>\n",
       "    </tr>\n",
       "    <tr>\n",
       "      <th>5825</th>\n",
       "      <td>test</td>\n",
       "      <td>9</td>\n",
       "      <td>1</td>\n",
       "      <td>2</td>\n",
       "      <td>3</td>\n",
       "      <td>3</td>\n",
       "      <td>2</td>\n",
       "      <td>3</td>\n",
       "      <td>2</td>\n",
       "      <td>4</td>\n",
       "      <td>...</td>\n",
       "      <td>0</td>\n",
       "      <td>0</td>\n",
       "      <td>0</td>\n",
       "      <td>1</td>\n",
       "      <td>0</td>\n",
       "      <td>0</td>\n",
       "      <td>0</td>\n",
       "      <td>0</td>\n",
       "      <td>0</td>\n",
       "      <td>0</td>\n",
       "    </tr>\n",
       "    <tr>\n",
       "      <th>5826</th>\n",
       "      <td>test</td>\n",
       "      <td>31</td>\n",
       "      <td>1</td>\n",
       "      <td>2</td>\n",
       "      <td>4</td>\n",
       "      <td>7</td>\n",
       "      <td>0</td>\n",
       "      <td>2</td>\n",
       "      <td>0</td>\n",
       "      <td>7</td>\n",
       "      <td>...</td>\n",
       "      <td>0</td>\n",
       "      <td>0</td>\n",
       "      <td>0</td>\n",
       "      <td>1</td>\n",
       "      <td>0</td>\n",
       "      <td>0</td>\n",
       "      <td>0</td>\n",
       "      <td>0</td>\n",
       "      <td>0</td>\n",
       "      <td>0</td>\n",
       "    </tr>\n",
       "  </tbody>\n",
       "</table>\n",
       "<p>5 rows × 87 columns</p>\n",
       "</div>"
      ],
      "text/plain": [
       "     ORIGIN  MOSTYPE  MAANTHUI  MGEMOMV  MGEMLEEF  MOSHOOFD  MGODRK  MGODPR  \\\n",
       "5822   test       33         1        4         2         8       0       6   \n",
       "5823   test        6         1        3         2         2       0       5   \n",
       "5824   test       39         1        3         3         9       1       4   \n",
       "5825   test        9         1        2         3         3       2       3   \n",
       "5826   test       31         1        2         4         7       0       2   \n",
       "\n",
       "      MGODOV  MGODGE   ...     APERSONG  AGEZONG  AWAOREG  ABRAND  AZEILPL  \\\n",
       "5822       0       3   ...            0        0        0       1        0   \n",
       "5823       0       4   ...            0        0        0       1        0   \n",
       "5824       2       3   ...            0        0        0       1        0   \n",
       "5825       2       4   ...            0        0        0       1        0   \n",
       "5826       0       7   ...            0        0        0       1        0   \n",
       "\n",
       "      APLEZIER  AFIETS  AINBOED  ABYSTAND  CARAVAN  \n",
       "5822         0       0        0         0        0  \n",
       "5823         0       0        0         0        1  \n",
       "5824         0       0        0         0        0  \n",
       "5825         0       0        0         0        0  \n",
       "5826         0       0        0         0        0  \n",
       "\n",
       "[5 rows x 87 columns]"
      ]
     },
     "execution_count": 3,
     "metadata": {},
     "output_type": "execute_result"
    }
   ],
   "source": [
    "test.head()"
   ]
  },
  {
   "cell_type": "markdown",
   "metadata": {},
   "source": [
    "The data set, seen above consists of 9821 observations from a training and test set. Observations can be differentiated by their value in the \"ORIGIN\" column. All of the various columns have meanings that can be looked up at the aforementioned link above. The last column, which reads 1 or 0 where 1 indicates purchased insurances and 0 indicates no purchase of insurance. Only the training data will be used for model creation and fitness will be tested against the test data."
   ]
  },
  {
   "cell_type": "code",
   "execution_count": 4,
   "metadata": {},
   "outputs": [
    {
     "name": "stdout",
     "output_type": "stream",
     "text": [
      "Not purchased 5474\n",
      "Purchased: 348\n"
     ]
    },
    {
     "data": {
      "image/png": "[encoded data removed]",
      "text/plain": [
       "<Figure size 432x288 with 1 Axes>"
      ]
     },
     "metadata": {
      "needs_background": "light"
     },
     "output_type": "display_data"
    }
   ],
   "source": [
    "target_count = train.CARAVAN.value_counts()\n",
    "print('Not purchased', target_count[0])\n",
    "print('Purchased:', target_count[1])\n",
    "target_count.plot(kind='bar', title='Count (Insurance Purchased)');"
   ]
  },
  {
   "cell_type": "markdown",
   "metadata": {},
   "source": [
    "As one can see by this bar graph, this dataset is very unbalanced, so several models will be generated to account for this."
   ]
  },
  {
   "cell_type": "markdown",
   "metadata": {},
   "source": [
    "## Models\n",
    "\n",
    "Due to the unbalanced nature of this dataset, I must sample so that I train on approximately equal fail and success rates. The tables below are in the form \n",
    "\n",
    "true negative   false positive<br/>\n",
    "false negative   true positive\n",
    "\n",
    "### Bagging\n",
    "\n",
    "**Unbalanced**"
   ]
  },
  {
   "cell_type": "code",
   "execution_count": 5,
   "metadata": {},
   "outputs": [],
   "source": [
    "x_test = test.drop(['ORIGIN', 'CARAVAN'], axis = 1)\n",
    "y_test = test['CARAVAN']\n",
    "train_0 = train[train['CARAVAN'] == 0]\n",
    "train_1 = train[train['CARAVAN'] == 1]"
   ]
  },
  {
   "cell_type": "code",
   "execution_count": 6,
   "metadata": {},
   "outputs": [
    {
     "name": "stdout",
     "output_type": "stream",
     "text": [
      "Accuracy:  0.925\n",
      "[[3682   80]\n",
      " [ 220   18]]\n"
     ]
    }
   ],
   "source": [
    "# Formatting\n",
    "x_train = train.drop(['ORIGIN', 'CARAVAN'], axis = 1)\n",
    "y_train = train['CARAVAN']\n",
    "\n",
    "# Model Creation\n",
    "model = BaggingClassifier(tree.DecisionTreeClassifier(random_state=1))\n",
    "model.fit(x_train, y_train)\n",
    "y_pred = model.predict(x_test)\n",
    "conf_mat = confusion_matrix(y_true=y_test, y_pred=y_pred)\n",
    "print(\"Accuracy: \", model.score(x_test, y_test))\n",
    "\n",
    "\n",
    "# Code to generate confusion matrix\n",
    "cm = confusion_matrix(y_test, y_pred)\n",
    "print(cm)"
   ]
  },
  {
   "cell_type": "markdown",
   "metadata": {},
   "source": [
    "The unbalanced data seems to predict mostly correct, however this is simply due to the fact that almost no positives are ever estimated, this model is only valid if no one wants insurance.\n",
    "\n",
    "**Under-sampling**"
   ]
  },
  {
   "cell_type": "code",
   "execution_count": 7,
   "metadata": {},
   "outputs": [
    {
     "name": "stdout",
     "output_type": "stream",
     "text": [
      "Accuracy:  0.70025\n",
      "[[2672 1090]\n",
      " [ 109  129]]\n"
     ]
    }
   ],
   "source": [
    "# Undersampling\n",
    "train_0_under = train_0.sample(target_count[1])\n",
    "train_under = pd.concat([train_0_under, train_1], axis=0)\n",
    "\n",
    "# Formatting\n",
    "x_train = train_under.drop(['ORIGIN', 'CARAVAN'], axis = 1)\n",
    "y_train = train_under['CARAVAN']\n",
    "\n",
    "# Model Creation\n",
    "model = BaggingClassifier(tree.DecisionTreeClassifier(random_state=1))\n",
    "model.fit(x_train, y_train)\n",
    "y_pred = model.predict(x_test)\n",
    "conf_mat = confusion_matrix(y_true=y_test, y_pred=y_pred)\n",
    "print(\"Accuracy: \", model.score(x_test, y_test))\n",
    "\n",
    "# Code to generate confusion matrix\n",
    "cm = confusion_matrix(y_test, y_pred)\n",
    "print(cm)"
   ]
  },
  {
   "cell_type": "markdown",
   "metadata": {},
   "source": [
    "As one can see, bootstrap undersampling causes a large number of false positives, but steers relatively clear of false positives. This model can work, but has a very bad accuracy.\n",
    "\n",
    "**Over-sampling**"
   ]
  },
  {
   "cell_type": "code",
   "execution_count": 8,
   "metadata": {},
   "outputs": [
    {
     "name": "stdout",
     "output_type": "stream",
     "text": [
      "Accuracy:  0.89775\n",
      "[[3561  201]\n",
      " [ 208   30]]\n"
     ]
    }
   ],
   "source": [
    "# Oversampling\n",
    "train_1_over = train_1.sample(target_count[0], replace=True)\n",
    "train_over = pd.concat([train_1_over, train_0], axis=0)\n",
    "\n",
    "# Formatting\n",
    "x_train = train_over.drop(['ORIGIN', 'CARAVAN'], axis = 1)\n",
    "y_train = train_over['CARAVAN']\n",
    "\n",
    "# Model Creation\n",
    "model = BaggingClassifier(tree.DecisionTreeClassifier(random_state=1))\n",
    "model.fit(x_train, y_train)\n",
    "y_pred = model.predict(x_test)\n",
    "conf_mat = confusion_matrix(y_true=y_test, y_pred=y_pred)\n",
    "print(\"Accuracy: \", model.score(x_test, y_test))\n",
    "\n",
    "# Code to generate confusion matrix\n",
    "cm = confusion_matrix(y_test, y_pred)\n",
    "print(cm)"
   ]
  },
  {
   "cell_type": "markdown",
   "metadata": {},
   "source": [
    "This method resulted in a mix of false positive and negatives while producing almost no true positives. This model is seemingly better, but still does not very accurately estimate.\n",
    "\n",
    "**SMOTE**"
   ]
  },
  {
   "cell_type": "code",
   "execution_count": 9,
   "metadata": {},
   "outputs": [
    {
     "name": "stdout",
     "output_type": "stream",
     "text": [
      "Accuracy:  0.9185\n",
      "[[3649  113]\n",
      " [ 213   25]]\n"
     ]
    }
   ],
   "source": [
    "from imblearn.over_sampling import SMOTE\n",
    "\n",
    "smote = SMOTE(ratio='minority')\n",
    "\n",
    "x_train = train.drop([\"ORIGIN\", \"CARAVAN\"], axis = 1)\n",
    "y_train = train[\"CARAVAN\"]\n",
    "\n",
    "x_sm, y_sm = smote.fit_sample(x_train, y_train)\n",
    "\n",
    "model = BaggingClassifier(tree.DecisionTreeClassifier(random_state=1))\n",
    "model.fit(x_sm, y_sm)\n",
    "y_pred = model.predict(x_test)\n",
    "conf_mat = confusion_matrix(y_true=y_test, y_pred=y_pred)\n",
    "print(\"Accuracy: \", model.score(x_test, y_test))\n",
    "\n",
    "# Code to generate confusion matrix\n",
    "cm = confusion_matrix(y_test, y_pred)\n",
    "print(cm)"
   ]
  },
  {
   "cell_type": "markdown",
   "metadata": {},
   "source": [
    "This model is comparable to oversampling, but has a lower rate of false positives, making this a slightly more robust model."
   ]
  },
  {
   "cell_type": "markdown",
   "metadata": {},
   "source": [
    "### Random Forest\n",
    "\n",
    "I will now run Random Forest to make this estimation. The number of predictors used in all cases is 10.\n",
    "\n",
    "**Unbalanced**"
   ]
  },
  {
   "cell_type": "code",
   "execution_count": 10,
   "metadata": {},
   "outputs": [],
   "source": [
    "x_test = test.drop(['ORIGIN', 'CARAVAN'], axis = 1)\n",
    "y_test = test['CARAVAN']\n",
    "train_0 = train[train['CARAVAN'] == 0]\n",
    "train_1 = train[train['CARAVAN'] == 1]"
   ]
  },
  {
   "cell_type": "code",
   "execution_count": 11,
   "metadata": {},
   "outputs": [
    {
     "name": "stdout",
     "output_type": "stream",
     "text": [
      "Accuracy:  0.928\n",
      "[[3698   64]\n",
      " [ 224   14]]\n"
     ]
    }
   ],
   "source": [
    "# Formatting\n",
    "x_train = train.drop(['ORIGIN', 'CARAVAN'], axis = 1)\n",
    "y_train = train['CARAVAN']\n",
    "\n",
    "# Model Creation\n",
    "model = RandomForestClassifier(n_estimators = 10)\n",
    "model.fit(x_train, y_train)\n",
    "y_pred = model.predict(x_test)\n",
    "conf_mat = confusion_matrix(y_true=y_test, y_pred=y_pred)\n",
    "print(\"Accuracy: \", model.score(x_test, y_test))\n",
    "\n",
    "\n",
    "# Code to generate confusion matrix\n",
    "cm = confusion_matrix(y_test, y_pred)\n",
    "print(cm)"
   ]
  },
  {
   "cell_type": "markdown",
   "metadata": {},
   "source": [
    "Unbalanced random forests create a reasonable model, but still suffers against false positives far outweighing true positives.\n",
    "\n",
    "**Under-sampling**"
   ]
  },
  {
   "cell_type": "code",
   "execution_count": 12,
   "metadata": {},
   "outputs": [
    {
     "name": "stdout",
     "output_type": "stream",
     "text": [
      "Accuracy:  0.693\n",
      "[[2638 1124]\n",
      " [ 104  134]]\n"
     ]
    }
   ],
   "source": [
    "# Undersampling\n",
    "train_0_under = train_0.sample(target_count[1])\n",
    "train_under = pd.concat([train_0_under, train_1], axis=0)\n",
    "\n",
    "# Formatting\n",
    "x_train = train_under.drop(['ORIGIN', 'CARAVAN'], axis = 1)\n",
    "y_train = train_under['CARAVAN']\n",
    "\n",
    "# Model Creation\n",
    "model = RandomForestClassifier(n_estimators = 10)\n",
    "model.fit(x_train, y_train)\n",
    "y_pred = model.predict(x_test)\n",
    "conf_mat = confusion_matrix(y_true=y_test, y_pred=y_pred)\n",
    "print(\"Accuracy: \", model.score(x_test, y_test))\n",
    "\n",
    "# Code to generate confusion matrix\n",
    "cm = confusion_matrix(y_test, y_pred)\n",
    "print(cm)"
   ]
  },
  {
   "cell_type": "markdown",
   "metadata": {},
   "source": [
    "The number of false positives generated by undersampling is, yet again, immense. This is problematic for predictions. \n",
    "\n",
    "**Over-sampling**"
   ]
  },
  {
   "cell_type": "code",
   "execution_count": 13,
   "metadata": {},
   "outputs": [
    {
     "name": "stdout",
     "output_type": "stream",
     "text": [
      "Accuracy:  0.91525\n",
      "[[3634  128]\n",
      " [ 211   27]]\n"
     ]
    }
   ],
   "source": [
    "# Oversampling\n",
    "train_1_over = train_1.sample(target_count[0], replace=True)\n",
    "train_over = pd.concat([train_1_over, train_0], axis=0)\n",
    "\n",
    "# Formatting\n",
    "x_train = train_over.drop(['ORIGIN', 'CARAVAN'], axis = 1)\n",
    "y_train = train_over['CARAVAN']\n",
    "\n",
    "# Model Creation\n",
    "model = RandomForestClassifier(n_estimators = 10)\n",
    "model.fit(x_train, y_train)\n",
    "y_pred = model.predict(x_test)\n",
    "conf_mat = confusion_matrix(y_true=y_test, y_pred=y_pred)\n",
    "print(\"Accuracy: \", model.score(x_test, y_test))\n",
    "\n",
    "# Code to generate confusion matrix\n",
    "cm = confusion_matrix(y_test, y_pred)\n",
    "print(cm)"
   ]
  },
  {
   "cell_type": "markdown",
   "metadata": {},
   "source": [
    "These results are only slightly better than bagging's over-sample model. The issue of false positives outweighting true is still a large issue.\n",
    "\n",
    "**SMOTE**"
   ]
  },
  {
   "cell_type": "code",
   "execution_count": 14,
   "metadata": {},
   "outputs": [
    {
     "name": "stdout",
     "output_type": "stream",
     "text": [
      "Accuracy:  0.9245\n",
      "[[3684   78]\n",
      " [ 224   14]]\n"
     ]
    }
   ],
   "source": [
    "from imblearn.over_sampling import SMOTE\n",
    "\n",
    "smote = SMOTE(ratio='minority')\n",
    "\n",
    "x_train = train.drop([\"ORIGIN\", \"CARAVAN\"], axis = 1)\n",
    "y_train = train[\"CARAVAN\"]\n",
    "\n",
    "x_sm, y_sm = smote.fit_sample(x_train, y_train)\n",
    "\n",
    "model = RandomForestClassifier(n_estimators = 10)\n",
    "model.fit(x_sm, y_sm)\n",
    "y_pred = model.predict(x_test)\n",
    "conf_mat = confusion_matrix(y_true=y_test, y_pred=y_pred)\n",
    "print(\"Accuracy: \", model.score(x_test, y_test))\n",
    "\n",
    "# Code to generate confusion matrix\n",
    "cm = confusion_matrix(y_test, y_pred)\n",
    "print(cm)"
   ]
  },
  {
   "cell_type": "markdown",
   "metadata": {},
   "source": [
    "The SMOTE method in random forests suffers the least from the issue of false positives, but still fails to accurately estimate whether someone will buy caravan insurance with a still huge number of false negatives."
   ]
  },
  {
   "cell_type": "markdown",
   "metadata": {},
   "source": [
    "### Boosting\n",
    "\n",
    "**Unbalanced**"
   ]
  },
  {
   "cell_type": "code",
   "execution_count": 15,
   "metadata": {},
   "outputs": [],
   "source": [
    "x_test = test.drop(['ORIGIN', 'CARAVAN'], axis = 1)\n",
    "y_test = test['CARAVAN']\n",
    "train_0 = train[train['CARAVAN'] == 0]\n",
    "train_1 = train[train['CARAVAN'] == 1]"
   ]
  },
  {
   "cell_type": "code",
   "execution_count": 16,
   "metadata": {},
   "outputs": [
    {
     "name": "stdout",
     "output_type": "stream",
     "text": [
      "Accuracy:  0.93875\n",
      "[[3751   11]\n",
      " [ 234    4]]\n"
     ]
    }
   ],
   "source": [
    "# Formatting\n",
    "x_train = train.drop(['ORIGIN', 'CARAVAN'], axis = 1)\n",
    "y_train = train['CARAVAN']\n",
    "\n",
    "# Model Creation\n",
    "model = AdaBoostClassifier(random_state=1)\n",
    "model.fit(x_train, y_train)\n",
    "y_pred = model.predict(x_test)\n",
    "conf_mat = confusion_matrix(y_true=y_test, y_pred=y_pred)\n",
    "print(\"Accuracy: \", model.score(x_test, y_test))\n",
    "\n",
    "\n",
    "# Code to generate confusion matrix\n",
    "cm = confusion_matrix(y_test, y_pred)\n",
    "print(cm)"
   ]
  },
  {
   "cell_type": "markdown",
   "metadata": {},
   "source": [
    "Unbalanced boosting provides very few positives at all, with only 4 true positives this method essentially does not estimate at all.\n",
    "\n",
    "**Under-sampling**"
   ]
  },
  {
   "cell_type": "code",
   "execution_count": 17,
   "metadata": {},
   "outputs": [
    {
     "name": "stdout",
     "output_type": "stream",
     "text": [
      "Accuracy:  0.6725\n",
      "[[2551 1211]\n",
      " [  99  139]]\n"
     ]
    }
   ],
   "source": [
    "# Undersampling\n",
    "train_0_under = train_0.sample(target_count[1])\n",
    "train_under = pd.concat([train_0_under, train_1], axis=0)\n",
    "\n",
    "# Formatting\n",
    "x_train = train_under.drop(['ORIGIN', 'CARAVAN'], axis = 1)\n",
    "y_train = train_under['CARAVAN']\n",
    "\n",
    "# Model Creation\n",
    "model = AdaBoostClassifier(random_state=1)\n",
    "model.fit(x_train, y_train)\n",
    "y_pred = model.predict(x_test)\n",
    "conf_mat = confusion_matrix(y_true=y_test, y_pred=y_pred)\n",
    "print(\"Accuracy: \", model.score(x_test, y_test))\n",
    "\n",
    "# Code to generate confusion matrix\n",
    "cm = confusion_matrix(y_test, y_pred)\n",
    "print(cm)"
   ]
  },
  {
   "cell_type": "markdown",
   "metadata": {},
   "source": [
    "The huge number of false positives in this model greatly offset the higher number of true positives than false negatives. This will result in almost all positive results actually being negative.\n",
    "\n",
    "**Over-sampling**"
   ]
  },
  {
   "cell_type": "code",
   "execution_count": 18,
   "metadata": {},
   "outputs": [
    {
     "name": "stdout",
     "output_type": "stream",
     "text": [
      "Accuracy:  0.7175\n",
      "[[2738 1024]\n",
      " [ 106  132]]\n"
     ]
    }
   ],
   "source": [
    "# Oversampling\n",
    "train_1_over = train_1.sample(target_count[0], replace=True)\n",
    "train_over = pd.concat([train_1_over, train_0], axis=0)\n",
    "\n",
    "# Formatting\n",
    "x_train = train_over.drop(['ORIGIN', 'CARAVAN'], axis = 1)\n",
    "y_train = train_over['CARAVAN']\n",
    "\n",
    "# Model Creation\n",
    "model = AdaBoostClassifier(random_state=1)\n",
    "model.fit(x_train, y_train)\n",
    "y_pred = model.predict(x_test)\n",
    "conf_mat = confusion_matrix(y_true=y_test, y_pred=y_pred)\n",
    "print(\"Accuracy: \", model.score(x_test, y_test))\n",
    "\n",
    "# Code to generate confusion matrix\n",
    "cm = confusion_matrix(y_test, y_pred)\n",
    "print(cm)"
   ]
  },
  {
   "cell_type": "markdown",
   "metadata": {},
   "source": [
    "The same issue persists in oversampling as was in under. This seems to be a pervasive problem with boosting.\n",
    "\n",
    "**SMOTE**"
   ]
  },
  {
   "cell_type": "code",
   "execution_count": 19,
   "metadata": {},
   "outputs": [
    {
     "name": "stdout",
     "output_type": "stream",
     "text": [
      "Accuracy:  0.93875\n",
      "[[3751   11]\n",
      " [ 234    4]]\n"
     ]
    }
   ],
   "source": [
    "from imblearn.over_sampling import SMOTE\n",
    "\n",
    "smote = SMOTE(ratio='minority')\n",
    "\n",
    "x_train = train.drop([\"ORIGIN\", \"CARAVAN\"], axis = 1)\n",
    "y_train = train[\"CARAVAN\"]\n",
    "\n",
    "x_sm, y_sm = smote.fit_sample(x_train, y_train)\n",
    "\n",
    "model = AdaBoostClassifier(random_state=1)\n",
    "model.fit(x_train, y_train)\n",
    "y_pred = model.predict(x_test)\n",
    "conf_mat = confusion_matrix(y_true=y_test, y_pred=y_pred)\n",
    "print(\"Accuracy: \", model.score(x_test, y_test))\n",
    "\n",
    "# Code to generate confusion matrix\n",
    "cm = confusion_matrix(y_test, y_pred)\n",
    "print(cm)"
   ]
  },
  {
   "cell_type": "markdown",
   "metadata": {},
   "source": [
    "Smote causes similar results to unbalanced in this case, greater complexity for no real result."
   ]
  },
  {
   "cell_type": "markdown",
   "metadata": {},
   "source": [
    "## Conclusions"
   ]
  },
  {
   "cell_type": "markdown",
   "metadata": {},
   "source": [
    "The question this lab intended to answer was: Can you predict who would be interested in buying a caravan insurance policy and give an explanation. Based on this result I would say that you kind of can. None of the above models produces more true positives than false negatives and false positives. This is an issue in that targeted advertizing is guaranteedly going to miss more or hit more than the people who actually want the insurance. However, depending on the overheads for advertizing, one could argue that false positives are relatively inconsequential. Based on this under or over-sampling using boosting could be said to predict well enough to warrant use of this method to advertise insurance. Further work could be done with a cost analysis of advertizing against the false positive rate.\n",
    "\n",
    "One thing that can be noticed, is that the methods of data normalization seemed to have far more consistant results across modeling methods than the results of each modeling method had across data normallization. This would indicate that it does not matter as much how one creates a model as it does the data one feeds into said model."
   ]
  }
 ],
 "metadata": {
  "kernelspec": {
   "display_name": "Python 3",
   "language": "python",
   "name": "python3"
  },
  "language_info": {
   "codemirror_mode": {
    "name": "ipython",
    "version": 3
   },
   "file_extension": ".py",
   "mimetype": "text/x-python",
   "name": "python",
   "nbconvert_exporter": "python",
   "pygments_lexer": "ipython3",
   "version": "3.7.1"
  }
 },
 "nbformat": 4,
 "nbformat_minor": 2
}
